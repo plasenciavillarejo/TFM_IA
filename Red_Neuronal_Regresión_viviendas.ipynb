{
 "cells": [
  {
   "cell_type": "markdown",
   "metadata": {},
   "source": [
    "## LIBRERÍAS A UTILIZAR"
   ]
  },
  {
   "cell_type": "code",
   "execution_count": 1,
   "metadata": {
    "_cell_guid": "b1076dfc-b9ad-4769-8c92-a6c4dae69d19",
    "_uuid": "8f2839f25d086af736a60e9eeb907d3b93b6e0e5",
    "execution": {
     "iopub.execute_input": "2021-12-19T15:28:04.615025Z",
     "iopub.status.busy": "2021-12-19T15:28:04.614298Z",
     "iopub.status.idle": "2021-12-19T15:28:10.851284Z",
     "shell.execute_reply": "2021-12-19T15:28:10.850554Z",
     "shell.execute_reply.started": "2021-12-19T15:28:04.614986Z"
    }
   },
   "outputs": [],
   "source": [
    "import numpy as np\n",
    "import pandas as pd\n",
    "from sklearn import  linear_model\n",
    "from pandas.plotting import scatter_matrix\n",
    "import matplotlib.pyplot as plt\n",
    "import seaborn as sns\n",
    "from tensorflow import keras\n",
    "from tensorflow.keras import layers"
   ]
  },
  {
   "cell_type": "code",
   "execution_count": 2,
   "metadata": {},
   "outputs": [],
   "source": [
    "viviendas = pd.read_csv('Datos_Viviendas.csv',header=0 ,sep=';')"
   ]
  },
  {
   "cell_type": "markdown",
   "metadata": {},
   "source": [
    "# Visualización de los datos."
   ]
  },
  {
   "cell_type": "code",
   "execution_count": 3,
   "metadata": {
    "execution": {
     "iopub.execute_input": "2021-12-18T17:06:32.957568Z",
     "iopub.status.busy": "2021-12-18T17:06:32.957267Z",
     "iopub.status.idle": "2021-12-18T17:06:32.973798Z",
     "shell.execute_reply": "2021-12-18T17:06:32.972849Z",
     "shell.execute_reply.started": "2021-12-18T17:06:32.957533Z"
    }
   },
   "outputs": [
    {
     "data": {
      "text/html": [
       "<div>\n",
       "<style scoped>\n",
       "    .dataframe tbody tr th:only-of-type {\n",
       "        vertical-align: middle;\n",
       "    }\n",
       "\n",
       "    .dataframe tbody tr th {\n",
       "        vertical-align: top;\n",
       "    }\n",
       "\n",
       "    .dataframe thead th {\n",
       "        text-align: right;\n",
       "    }\n",
       "</style>\n",
       "<table border=\"1\" class=\"dataframe\">\n",
       "  <thead>\n",
       "    <tr style=\"text-align: right;\">\n",
       "      <th></th>\n",
       "      <th>Ubicación</th>\n",
       "      <th>Precio</th>\n",
       "      <th>Habitaciones</th>\n",
       "      <th>Baños</th>\n",
       "      <th>Planta</th>\n",
       "      <th>Metros Cuadrados</th>\n",
       "      <th>Ascensor</th>\n",
       "      <th>Balcon</th>\n",
       "      <th>Terraza</th>\n",
       "      <th>Calefaccion</th>\n",
       "      <th>Aire Acondicionado</th>\n",
       "      <th>Piscina</th>\n",
       "      <th>Extras</th>\n",
       "      <th>Parking</th>\n",
       "    </tr>\n",
       "  </thead>\n",
       "  <tbody>\n",
       "    <tr>\n",
       "      <th>0</th>\n",
       "      <td>Piso en Calle Mayor, 55</td>\n",
       "      <td>145000</td>\n",
       "      <td>4</td>\n",
       "      <td>2</td>\n",
       "      <td>5</td>\n",
       "      <td>145.0</td>\n",
       "      <td>Ascensor</td>\n",
       "      <td>Balcón</td>\n",
       "      <td>Terraza</td>\n",
       "      <td>Calefacción</td>\n",
       "      <td>Aire acondicionado</td>\n",
       "      <td>NaN</td>\n",
       "      <td>5</td>\n",
       "      <td>Parking</td>\n",
       "    </tr>\n",
       "    <tr>\n",
       "      <th>1</th>\n",
       "      <td>Piso en Centro</td>\n",
       "      <td>399000</td>\n",
       "      <td>3</td>\n",
       "      <td>2</td>\n",
       "      <td>2</td>\n",
       "      <td>125.0</td>\n",
       "      <td>Ascensor</td>\n",
       "      <td>Balcon</td>\n",
       "      <td>NaN</td>\n",
       "      <td>Calefaccion</td>\n",
       "      <td>Aire acondicionado</td>\n",
       "      <td>NaN</td>\n",
       "      <td>6</td>\n",
       "      <td>Parking</td>\n",
       "    </tr>\n",
       "    <tr>\n",
       "      <th>2</th>\n",
       "      <td>Piso en Centro</td>\n",
       "      <td>395000</td>\n",
       "      <td>4</td>\n",
       "      <td>2</td>\n",
       "      <td>2</td>\n",
       "      <td>172.0</td>\n",
       "      <td>Ascensor</td>\n",
       "      <td>NaN</td>\n",
       "      <td>Terraza</td>\n",
       "      <td>Calefaccion</td>\n",
       "      <td>Aire acondicionado</td>\n",
       "      <td>Piscina</td>\n",
       "      <td>10</td>\n",
       "      <td>Parking</td>\n",
       "    </tr>\n",
       "    <tr>\n",
       "      <th>3</th>\n",
       "      <td>Piso en Centro</td>\n",
       "      <td>189500</td>\n",
       "      <td>3</td>\n",
       "      <td>2</td>\n",
       "      <td>1</td>\n",
       "      <td>104.0</td>\n",
       "      <td>Ascensor</td>\n",
       "      <td>Balcon</td>\n",
       "      <td>NaN</td>\n",
       "      <td>Calefaccion</td>\n",
       "      <td>Aire acondicionado</td>\n",
       "      <td>NaN</td>\n",
       "      <td>1</td>\n",
       "      <td>Parking</td>\n",
       "    </tr>\n",
       "    <tr>\n",
       "      <th>4</th>\n",
       "      <td>Piso en Centro</td>\n",
       "      <td>370000</td>\n",
       "      <td>5</td>\n",
       "      <td>2</td>\n",
       "      <td>3</td>\n",
       "      <td>103.0</td>\n",
       "      <td>Ascensor</td>\n",
       "      <td>NaN</td>\n",
       "      <td>Terraza</td>\n",
       "      <td>Calefaccion</td>\n",
       "      <td>Aire acondicionado</td>\n",
       "      <td>NaN</td>\n",
       "      <td>3</td>\n",
       "      <td>Parking</td>\n",
       "    </tr>\n",
       "    <tr>\n",
       "      <th>5</th>\n",
       "      <td>Piso en Centro</td>\n",
       "      <td>178000</td>\n",
       "      <td>2</td>\n",
       "      <td>2</td>\n",
       "      <td>4</td>\n",
       "      <td>130.0</td>\n",
       "      <td>Ascensor</td>\n",
       "      <td>Balcon</td>\n",
       "      <td>NaN</td>\n",
       "      <td>Calefaccion</td>\n",
       "      <td>Aire acondicionado</td>\n",
       "      <td>Piscina</td>\n",
       "      <td>5</td>\n",
       "      <td>Parking</td>\n",
       "    </tr>\n",
       "    <tr>\n",
       "      <th>6</th>\n",
       "      <td>Piso en Centro</td>\n",
       "      <td>385000</td>\n",
       "      <td>4</td>\n",
       "      <td>2</td>\n",
       "      <td>1</td>\n",
       "      <td>188.0</td>\n",
       "      <td>Ascensor</td>\n",
       "      <td>Balcon</td>\n",
       "      <td>NaN</td>\n",
       "      <td>Calefaccion</td>\n",
       "      <td>Aire acondicionado</td>\n",
       "      <td>Piscina</td>\n",
       "      <td>3</td>\n",
       "      <td>Parking</td>\n",
       "    </tr>\n",
       "    <tr>\n",
       "      <th>7</th>\n",
       "      <td>Piso en Norte</td>\n",
       "      <td>335000</td>\n",
       "      <td>3</td>\n",
       "      <td>2</td>\n",
       "      <td>7</td>\n",
       "      <td>180.0</td>\n",
       "      <td>Ascensor</td>\n",
       "      <td>Balcon</td>\n",
       "      <td>NaN</td>\n",
       "      <td>Calefaccion</td>\n",
       "      <td>Aire acondicionado</td>\n",
       "      <td>Piscina</td>\n",
       "      <td>5</td>\n",
       "      <td>Parking</td>\n",
       "    </tr>\n",
       "    <tr>\n",
       "      <th>8</th>\n",
       "      <td>Piso en Centro</td>\n",
       "      <td>250000</td>\n",
       "      <td>4</td>\n",
       "      <td>1</td>\n",
       "      <td>2</td>\n",
       "      <td>106.0</td>\n",
       "      <td>Ascensor</td>\n",
       "      <td>Balcon</td>\n",
       "      <td>NaN</td>\n",
       "      <td>Calefaccion</td>\n",
       "      <td>Aire acondicionado</td>\n",
       "      <td>NaN</td>\n",
       "      <td>5</td>\n",
       "      <td>Parking</td>\n",
       "    </tr>\n",
       "    <tr>\n",
       "      <th>9</th>\n",
       "      <td>Piso en Sur</td>\n",
       "      <td>119000</td>\n",
       "      <td>5</td>\n",
       "      <td>2</td>\n",
       "      <td>1</td>\n",
       "      <td>146.0</td>\n",
       "      <td>Ascensor</td>\n",
       "      <td>NaN</td>\n",
       "      <td>Terraza</td>\n",
       "      <td>Calefaccion</td>\n",
       "      <td>Aire acondicionado</td>\n",
       "      <td>NaN</td>\n",
       "      <td>6</td>\n",
       "      <td>Parking</td>\n",
       "    </tr>\n",
       "  </tbody>\n",
       "</table>\n",
       "</div>"
      ],
      "text/plain": [
       "                 Ubicación  Precio  Habitaciones  Baños  Planta  \\\n",
       "0  Piso en Calle Mayor, 55  145000             4      2       5   \n",
       "1           Piso en Centro  399000             3      2       2   \n",
       "2           Piso en Centro  395000             4      2       2   \n",
       "3           Piso en Centro  189500             3      2       1   \n",
       "4           Piso en Centro  370000             5      2       3   \n",
       "5           Piso en Centro  178000             2      2       4   \n",
       "6           Piso en Centro  385000             4      2       1   \n",
       "7            Piso en Norte  335000             3      2       7   \n",
       "8           Piso en Centro  250000             4      1       2   \n",
       "9              Piso en Sur  119000             5      2       1   \n",
       "\n",
       "   Metros Cuadrados  Ascensor  Balcon  Terraza   Calefaccion  \\\n",
       "0             145.0  Ascensor  Balcón  Terraza   Calefacción   \n",
       "1             125.0  Ascensor  Balcon      NaN  Calefaccion    \n",
       "2             172.0  Ascensor     NaN  Terraza  Calefaccion    \n",
       "3             104.0  Ascensor  Balcon      NaN  Calefaccion    \n",
       "4             103.0  Ascensor     NaN  Terraza  Calefaccion    \n",
       "5             130.0  Ascensor  Balcon      NaN  Calefaccion    \n",
       "6             188.0  Ascensor  Balcon      NaN  Calefaccion    \n",
       "7             180.0  Ascensor  Balcon      NaN  Calefaccion    \n",
       "8             106.0  Ascensor  Balcon      NaN  Calefaccion    \n",
       "9             146.0  Ascensor     NaN  Terraza  Calefaccion    \n",
       "\n",
       "   Aire Acondicionado  Piscina  Extras  Parking  \n",
       "0  Aire acondicionado      NaN       5  Parking  \n",
       "1  Aire acondicionado      NaN       6  Parking  \n",
       "2  Aire acondicionado  Piscina      10  Parking  \n",
       "3  Aire acondicionado      NaN       1  Parking  \n",
       "4  Aire acondicionado      NaN       3  Parking  \n",
       "5  Aire acondicionado  Piscina       5  Parking  \n",
       "6  Aire acondicionado  Piscina       3  Parking  \n",
       "7  Aire acondicionado  Piscina       5  Parking  \n",
       "8  Aire acondicionado      NaN       5  Parking  \n",
       "9  Aire acondicionado      NaN       6  Parking  "
      ]
     },
     "execution_count": 3,
     "metadata": {},
     "output_type": "execute_result"
    }
   ],
   "source": [
    "viviendas.head(10)"
   ]
  },
  {
   "cell_type": "markdown",
   "metadata": {},
   "source": [
    "Ahora voy a visualizar cuantas filas y columnas cuenta mi dataset, esto nos hace una idea para ver si el dataset el \n",
    "cual vamos a analizar nos sirve o en su caso cambiarlo por otro."
   ]
  },
  {
   "cell_type": "code",
   "execution_count": 4,
   "metadata": {
    "execution": {
     "iopub.execute_input": "2021-12-18T17:06:37.699563Z",
     "iopub.status.busy": "2021-12-18T17:06:37.698998Z",
     "iopub.status.idle": "2021-12-18T17:06:37.717640Z",
     "shell.execute_reply": "2021-12-18T17:06:37.717007Z",
     "shell.execute_reply.started": "2021-12-18T17:06:37.699527Z"
    }
   },
   "outputs": [
    {
     "name": "stdout",
     "output_type": "stream",
     "text": [
      "(11345, 14)\n"
     ]
    }
   ],
   "source": [
    "print(viviendas.shape)"
   ]
  },
  {
   "cell_type": "code",
   "execution_count": 5,
   "metadata": {},
   "outputs": [
    {
     "name": "stdout",
     "output_type": "stream",
     "text": [
      "<class 'pandas.core.frame.DataFrame'>\n",
      "RangeIndex: 11345 entries, 0 to 11344\n",
      "Data columns (total 14 columns):\n",
      " #   Column              Non-Null Count  Dtype  \n",
      "---  ------              --------------  -----  \n",
      " 0   Ubicación           11345 non-null  object \n",
      " 1   Precio              11345 non-null  int64  \n",
      " 2   Habitaciones        11345 non-null  int64  \n",
      " 3   Baños               11345 non-null  int64  \n",
      " 4   Planta              11345 non-null  int64  \n",
      " 5   Metros Cuadrados    11345 non-null  float64\n",
      " 6   Ascensor            9111 non-null   object \n",
      " 7   Balcon              6907 non-null   object \n",
      " 8   Terraza             6023 non-null   object \n",
      " 9   Calefaccion         6537 non-null   object \n",
      " 10  Aire Acondicionado  9475 non-null   object \n",
      " 11  Piscina             2218 non-null   object \n",
      " 12  Extras              11345 non-null  int64  \n",
      " 13  Parking             11195 non-null  object \n",
      "dtypes: float64(1), int64(5), object(8)\n",
      "memory usage: 1.2+ MB\n",
      "None\n"
     ]
    }
   ],
   "source": [
    "print(viviendas.info())"
   ]
  },
  {
   "cell_type": "markdown",
   "metadata": {},
   "source": [
    "Antes de hacer nada en mi dataset,voy a visualizar con cuantos campos vacíos me voy a encontrar."
   ]
  },
  {
   "cell_type": "code",
   "execution_count": 6,
   "metadata": {
    "execution": {
     "iopub.execute_input": "2021-12-19T15:47:55.036010Z",
     "iopub.status.busy": "2021-12-19T15:47:55.035426Z",
     "iopub.status.idle": "2021-12-19T15:47:55.051161Z",
     "shell.execute_reply": "2021-12-19T15:47:55.050041Z",
     "shell.execute_reply.started": "2021-12-19T15:47:55.035958Z"
    }
   },
   "outputs": [
    {
     "name": "stdout",
     "output_type": "stream",
     "text": [
      "Valores nulos en <Ubicación>: 0\n",
      "Valores nulos en <Precio>: 0\n",
      "Valores nulos en <Habitaciones>: 0\n",
      "Valores nulos en <Baños>: 0\n",
      "Valores nulos en <Planta>: 0\n",
      "Valores nulos en <Metros Cuadrados>: 0\n",
      "Valores nulos en <Ascensor>: 2234\n",
      "Valores nulos en <Balcon>: 4438\n",
      "Valores nulos en <Terraza>: 5322\n",
      "Valores nulos en <Calefaccion>: 4808\n",
      "Valores nulos en <Aire Acondicionado>: 1870\n",
      "Valores nulos en <Piscina>: 9127\n",
      "Valores nulos en <Extras>: 0\n",
      "Valores nulos en <Parking>: 150\n"
     ]
    }
   ],
   "source": [
    "columnas = viviendas.columns.tolist()\n",
    "\n",
    "for column in columnas:\n",
    "    print(\"Valores nulos en <{0}>: {1}\".format(column, viviendas[column].isnull().sum()))"
   ]
  },
  {
   "cell_type": "markdown",
   "metadata": {},
   "source": [
    "# Vamos a codificar las variables categoricas en valores númericos."
   ]
  },
  {
   "cell_type": "code",
   "execution_count": 4,
   "metadata": {},
   "outputs": [
    {
     "name": "stdout",
     "output_type": "stream",
     "text": [
      "Index(['Ubicación', 'Precio', 'Habitaciones', 'Baños', 'Planta',\n",
      "       'Metros Cuadrados', 'Ascensor', 'Balcon', 'Terraza', 'Calefaccion',\n",
      "       'Aire Acondicionado', 'Piscina', 'Extras', 'Parking'],\n",
      "      dtype='object')\n"
     ]
    }
   ],
   "source": [
    "from sklearn import preprocessing\n",
    "\n",
    "transfor_datos = preprocessing.LabelEncoder()\n",
    "viviendas = viviendas.apply(transfor_datos.fit_transform)\n",
    "\n",
    "print(viviendas.keys())"
   ]
  },
  {
   "cell_type": "code",
   "execution_count": 8,
   "metadata": {},
   "outputs": [
    {
     "name": "stdout",
     "output_type": "stream",
     "text": [
      "<class 'pandas.core.frame.DataFrame'>\n",
      "RangeIndex: 11345 entries, 0 to 11344\n",
      "Data columns (total 14 columns):\n",
      " #   Column              Non-Null Count  Dtype\n",
      "---  ------              --------------  -----\n",
      " 0   Ubicación           11345 non-null  int64\n",
      " 1   Precio              11345 non-null  int64\n",
      " 2   Habitaciones        11345 non-null  int64\n",
      " 3   Baños               11345 non-null  int64\n",
      " 4   Planta              11345 non-null  int64\n",
      " 5   Metros Cuadrados    11345 non-null  int64\n",
      " 6   Ascensor            11345 non-null  int64\n",
      " 7   Balcon              11345 non-null  int64\n",
      " 8   Terraza             11345 non-null  int64\n",
      " 9   Calefaccion         11345 non-null  int64\n",
      " 10  Aire Acondicionado  11345 non-null  int64\n",
      " 11  Piscina             11345 non-null  int64\n",
      " 12  Extras              11345 non-null  int64\n",
      " 13  Parking             11345 non-null  int64\n",
      "dtypes: int64(14)\n",
      "memory usage: 1.2 MB\n",
      "None\n"
     ]
    }
   ],
   "source": [
    "print(viviendas.info())"
   ]
  },
  {
   "cell_type": "code",
   "execution_count": 5,
   "metadata": {},
   "outputs": [],
   "source": [
    "X = viviendas[['Habitaciones', 'Baños', 'Planta','Metros Cuadrados','Ascensor','Balcon','Terraza','Calefaccion',\n",
    "              'Aire Acondicionado','Piscina','Extras','Parking']]\n",
    "y = viviendas['Precio']"
   ]
  },
  {
   "cell_type": "markdown",
   "metadata": {},
   "source": [
    "#### Preparación de los datos del modelo."
   ]
  },
  {
   "cell_type": "code",
   "execution_count": 6,
   "metadata": {
    "execution": {
     "iopub.execute_input": "2021-12-19T15:47:22.847005Z",
     "iopub.status.busy": "2021-12-19T15:47:22.846728Z",
     "iopub.status.idle": "2021-12-19T15:47:22.858194Z",
     "shell.execute_reply": "2021-12-19T15:47:22.857255Z",
     "shell.execute_reply.started": "2021-12-19T15:47:22.846974Z"
    }
   },
   "outputs": [],
   "source": [
    "from sklearn.model_selection import train_test_split\n",
    "\n",
    "# Separo los datos de \"train\" en entrenamiento y prueba para probar los algoritmos\n",
    "X_train, X_test, y_train, y_test = train_test_split(X, y, test_size=0.2)"
   ]
  },
  {
   "cell_type": "markdown",
   "metadata": {},
   "source": [
    "#### Implementación del Modelo.\n",
    " - Implementamos el modelo utilizando Keras. El modelo posee 50 neurona más una capa de Activación \n",
    " - Sigmoide, Adam como optimizador , Entropía Cruzada para la función de error y Accuracy como métrica. \n"
   ]
  },
  {
   "cell_type": "code",
   "execution_count": 53,
   "metadata": {
    "execution": {
     "iopub.execute_input": "2021-12-19T15:47:45.914672Z",
     "iopub.status.busy": "2021-12-19T15:47:45.914161Z",
     "iopub.status.idle": "2021-12-19T15:47:45.962073Z",
     "shell.execute_reply": "2021-12-19T15:47:45.961301Z",
     "shell.execute_reply.started": "2021-12-19T15:47:45.914619Z"
    }
   },
   "outputs": [],
   "source": [
    "\n",
    "# 2 capas Intermedias con 3 neuronas\n",
    "capa_oculta1 = keras.layers.Dense(units=300, input_shape=[12])\n",
    "capa_oculta2 = keras.layers.Dense(units=300)\n",
    "# 1 salida\n",
    "salida = keras.layers.Dense(units=1)\n",
    "\n",
    "# Vamos a utilizar la funcion de activación sigmoidal\n",
    "activacion = keras.layers.Activation('relu')\n",
    "\n",
    "model = keras.Sequential([capa_oculta1,capa_oculta2,salida,activacion])\n",
    "\n",
    "model.compile(\n",
    "    keras.optimizers.Adam(0.0004),\n",
    "    loss ='binary_crossentropy',\n",
    "    metrics = ['accuracy']\n",
    ")"
   ]
  },
  {
   "cell_type": "markdown",
   "metadata": {},
   "source": [
    "#### Visualizacíon de las variables intermedias."
   ]
  },
  {
   "cell_type": "code",
   "execution_count": 54,
   "metadata": {
    "execution": {
     "iopub.execute_input": "2021-12-19T15:48:01.085504Z",
     "iopub.status.busy": "2021-12-19T15:48:01.085183Z",
     "iopub.status.idle": "2021-12-19T15:48:01.097050Z",
     "shell.execute_reply": "2021-12-19T15:48:01.095944Z",
     "shell.execute_reply.started": "2021-12-19T15:48:01.085451Z"
    }
   },
   "outputs": [
    {
     "name": "stdout",
     "output_type": "stream",
     "text": [
      "\n",
      " Combinaciones internas Capa_Oculta_1 \n",
      "\n",
      " [array([[-0.03843064,  0.13801579,  0.05048893, ..., -0.06189422,\n",
      "         0.0791872 , -0.05257652],\n",
      "       [-0.02012993, -0.0096927 , -0.13071233, ..., -0.12188689,\n",
      "        -0.09338155,  0.05859621],\n",
      "       [-0.03165249, -0.10166624,  0.09708703, ...,  0.12657799,\n",
      "         0.11788027,  0.09232427],\n",
      "       ...,\n",
      "       [ 0.00171235, -0.13431183,  0.0987556 , ..., -0.12605369,\n",
      "        -0.10545123, -0.02598415],\n",
      "       [ 0.09748897, -0.138213  , -0.13716769, ...,  0.01769163,\n",
      "         0.05057411, -0.09288819],\n",
      "       [-0.10482641,  0.07730842,  0.11585785, ...,  0.12442397,\n",
      "        -0.11587441, -0.05494054]], dtype=float32), array([0., 0., 0., 0., 0., 0., 0., 0., 0., 0., 0., 0., 0., 0., 0., 0., 0.,\n",
      "       0., 0., 0., 0., 0., 0., 0., 0., 0., 0., 0., 0., 0., 0., 0., 0., 0.,\n",
      "       0., 0., 0., 0., 0., 0., 0., 0., 0., 0., 0., 0., 0., 0., 0., 0., 0.,\n",
      "       0., 0., 0., 0., 0., 0., 0., 0., 0., 0., 0., 0., 0., 0., 0., 0., 0.,\n",
      "       0., 0., 0., 0., 0., 0., 0., 0., 0., 0., 0., 0., 0., 0., 0., 0., 0.,\n",
      "       0., 0., 0., 0., 0., 0., 0., 0., 0., 0., 0., 0., 0., 0., 0., 0., 0.,\n",
      "       0., 0., 0., 0., 0., 0., 0., 0., 0., 0., 0., 0., 0., 0., 0., 0., 0.,\n",
      "       0., 0., 0., 0., 0., 0., 0., 0., 0., 0., 0., 0., 0., 0., 0., 0., 0.,\n",
      "       0., 0., 0., 0., 0., 0., 0., 0., 0., 0., 0., 0., 0., 0., 0., 0., 0.,\n",
      "       0., 0., 0., 0., 0., 0., 0., 0., 0., 0., 0., 0., 0., 0., 0., 0., 0.,\n",
      "       0., 0., 0., 0., 0., 0., 0., 0., 0., 0., 0., 0., 0., 0., 0., 0., 0.,\n",
      "       0., 0., 0., 0., 0., 0., 0., 0., 0., 0., 0., 0., 0., 0., 0., 0., 0.,\n",
      "       0., 0., 0., 0., 0., 0., 0., 0., 0., 0., 0., 0., 0., 0., 0., 0., 0.,\n",
      "       0., 0., 0., 0., 0., 0., 0., 0., 0., 0., 0., 0., 0., 0., 0., 0., 0.,\n",
      "       0., 0., 0., 0., 0., 0., 0., 0., 0., 0., 0., 0., 0., 0., 0., 0., 0.,\n",
      "       0., 0., 0., 0., 0., 0., 0., 0., 0., 0., 0., 0., 0., 0., 0., 0., 0.,\n",
      "       0., 0., 0., 0., 0., 0., 0., 0., 0., 0., 0., 0., 0., 0., 0., 0., 0.,\n",
      "       0., 0., 0., 0., 0., 0., 0., 0., 0., 0., 0.], dtype=float32)]\n",
      "\n",
      " Combinaciones internas Capa_Oculta_2 \n",
      "\n",
      " [array([[ 0.07132453, -0.04699307, -0.04861944, ...,  0.01472423,\n",
      "         0.08842064, -0.06756298],\n",
      "       [-0.05351789, -0.03763051,  0.00838013, ...,  0.06365488,\n",
      "         0.03594134,  0.09500065],\n",
      "       [-0.06129782, -0.04333153,  0.02391698, ..., -0.07743935,\n",
      "         0.07674966, -0.09041369],\n",
      "       ...,\n",
      "       [ 0.0033478 , -0.01763849, -0.01618018, ...,  0.08337357,\n",
      "        -0.07124507, -0.00825594],\n",
      "       [-0.0026536 ,  0.0352769 , -0.05316718, ..., -0.06925158,\n",
      "        -0.08205943, -0.01068465],\n",
      "       [-0.07789979,  0.0806964 , -0.02369867, ...,  0.07452641,\n",
      "        -0.09148758,  0.0699049 ]], dtype=float32), array([0., 0., 0., 0., 0., 0., 0., 0., 0., 0., 0., 0., 0., 0., 0., 0., 0.,\n",
      "       0., 0., 0., 0., 0., 0., 0., 0., 0., 0., 0., 0., 0., 0., 0., 0., 0.,\n",
      "       0., 0., 0., 0., 0., 0., 0., 0., 0., 0., 0., 0., 0., 0., 0., 0., 0.,\n",
      "       0., 0., 0., 0., 0., 0., 0., 0., 0., 0., 0., 0., 0., 0., 0., 0., 0.,\n",
      "       0., 0., 0., 0., 0., 0., 0., 0., 0., 0., 0., 0., 0., 0., 0., 0., 0.,\n",
      "       0., 0., 0., 0., 0., 0., 0., 0., 0., 0., 0., 0., 0., 0., 0., 0., 0.,\n",
      "       0., 0., 0., 0., 0., 0., 0., 0., 0., 0., 0., 0., 0., 0., 0., 0., 0.,\n",
      "       0., 0., 0., 0., 0., 0., 0., 0., 0., 0., 0., 0., 0., 0., 0., 0., 0.,\n",
      "       0., 0., 0., 0., 0., 0., 0., 0., 0., 0., 0., 0., 0., 0., 0., 0., 0.,\n",
      "       0., 0., 0., 0., 0., 0., 0., 0., 0., 0., 0., 0., 0., 0., 0., 0., 0.,\n",
      "       0., 0., 0., 0., 0., 0., 0., 0., 0., 0., 0., 0., 0., 0., 0., 0., 0.,\n",
      "       0., 0., 0., 0., 0., 0., 0., 0., 0., 0., 0., 0., 0., 0., 0., 0., 0.,\n",
      "       0., 0., 0., 0., 0., 0., 0., 0., 0., 0., 0., 0., 0., 0., 0., 0., 0.,\n",
      "       0., 0., 0., 0., 0., 0., 0., 0., 0., 0., 0., 0., 0., 0., 0., 0., 0.,\n",
      "       0., 0., 0., 0., 0., 0., 0., 0., 0., 0., 0., 0., 0., 0., 0., 0., 0.,\n",
      "       0., 0., 0., 0., 0., 0., 0., 0., 0., 0., 0., 0., 0., 0., 0., 0., 0.,\n",
      "       0., 0., 0., 0., 0., 0., 0., 0., 0., 0., 0., 0., 0., 0., 0., 0., 0.,\n",
      "       0., 0., 0., 0., 0., 0., 0., 0., 0., 0., 0.], dtype=float32)]\n",
      "\n",
      " Combinaciones Salida \n",
      "\n",
      " [array([[-9.45899412e-02],\n",
      "       [ 1.06816679e-01],\n",
      "       [ 3.93815786e-02],\n",
      "       [-7.04762340e-03],\n",
      "       [-8.15503821e-02],\n",
      "       [ 9.45480615e-02],\n",
      "       [ 2.94154435e-02],\n",
      "       [ 1.04704052e-01],\n",
      "       [ 9.15713608e-02],\n",
      "       [-7.85553455e-03],\n",
      "       [-8.76240805e-02],\n",
      "       [ 4.23276275e-02],\n",
      "       [ 9.25929844e-02],\n",
      "       [-1.25196248e-01],\n",
      "       [-2.51317546e-02],\n",
      "       [ 1.27659291e-01],\n",
      "       [-5.08996695e-02],\n",
      "       [ 1.06644973e-01],\n",
      "       [ 2.70398557e-02],\n",
      "       [-4.33935151e-02],\n",
      "       [-1.39085367e-01],\n",
      "       [-3.65358070e-02],\n",
      "       [-6.87504932e-02],\n",
      "       [ 1.72120333e-03],\n",
      "       [-3.19762677e-02],\n",
      "       [-1.38050944e-01],\n",
      "       [ 6.34992123e-03],\n",
      "       [-1.30962253e-01],\n",
      "       [-5.49589396e-02],\n",
      "       [ 7.26069510e-03],\n",
      "       [ 3.26708406e-02],\n",
      "       [ 1.62367523e-02],\n",
      "       [-4.75942194e-02],\n",
      "       [-9.80199054e-02],\n",
      "       [-7.12403581e-02],\n",
      "       [-8.06613564e-02],\n",
      "       [-3.80816013e-02],\n",
      "       [ 3.20836157e-02],\n",
      "       [ 5.59651107e-02],\n",
      "       [-1.13410614e-01],\n",
      "       [ 2.77372748e-02],\n",
      "       [-1.21857673e-02],\n",
      "       [-4.51175496e-02],\n",
      "       [-7.73688257e-02],\n",
      "       [-1.05216853e-01],\n",
      "       [-1.21347509e-01],\n",
      "       [ 1.09241903e-03],\n",
      "       [-3.80067751e-02],\n",
      "       [-8.96231309e-02],\n",
      "       [-5.00928089e-02],\n",
      "       [ 9.50904489e-02],\n",
      "       [ 1.35656148e-01],\n",
      "       [-7.43693933e-02],\n",
      "       [ 9.77028906e-03],\n",
      "       [-1.89561248e-02],\n",
      "       [-2.97877640e-02],\n",
      "       [ 1.93739682e-02],\n",
      "       [ 2.37972438e-02],\n",
      "       [ 7.58643895e-02],\n",
      "       [-5.89632317e-02],\n",
      "       [ 1.26094103e-01],\n",
      "       [ 5.98163754e-02],\n",
      "       [-2.81290337e-02],\n",
      "       [ 7.48886168e-03],\n",
      "       [ 8.14633071e-03],\n",
      "       [-5.89344501e-02],\n",
      "       [ 2.63249874e-02],\n",
      "       [ 1.24379396e-01],\n",
      "       [-8.06961954e-02],\n",
      "       [ 9.02080387e-02],\n",
      "       [-5.81855178e-02],\n",
      "       [-8.15087408e-02],\n",
      "       [ 1.75551772e-02],\n",
      "       [-8.40902328e-02],\n",
      "       [ 1.11963481e-01],\n",
      "       [ 7.34760165e-02],\n",
      "       [-1.31349400e-01],\n",
      "       [-8.49664211e-03],\n",
      "       [-4.71751690e-02],\n",
      "       [ 7.75337964e-02],\n",
      "       [ 1.40048712e-02],\n",
      "       [ 9.36077386e-02],\n",
      "       [-8.02372172e-02],\n",
      "       [ 1.18008852e-02],\n",
      "       [ 2.97204405e-02],\n",
      "       [ 7.46054947e-03],\n",
      "       [ 1.30739361e-01],\n",
      "       [ 9.44491029e-02],\n",
      "       [ 1.21049464e-01],\n",
      "       [ 2.35898942e-02],\n",
      "       [-9.95098650e-02],\n",
      "       [ 1.65483654e-02],\n",
      "       [-1.26630396e-01],\n",
      "       [ 1.72555149e-02],\n",
      "       [ 7.18615800e-02],\n",
      "       [-7.18521550e-02],\n",
      "       [-8.33779275e-02],\n",
      "       [ 5.63310385e-02],\n",
      "       [ 2.74378061e-03],\n",
      "       [-3.54223177e-02],\n",
      "       [-6.86808154e-02],\n",
      "       [-1.33927986e-01],\n",
      "       [-2.31703371e-02],\n",
      "       [ 6.74394816e-02],\n",
      "       [-8.62148851e-02],\n",
      "       [ 6.81949109e-02],\n",
      "       [-7.67117888e-02],\n",
      "       [ 2.06104815e-02],\n",
      "       [-9.02597010e-02],\n",
      "       [-1.16815031e-01],\n",
      "       [ 1.05227530e-01],\n",
      "       [-1.83741897e-02],\n",
      "       [ 5.94826937e-02],\n",
      "       [ 8.19714814e-02],\n",
      "       [-1.66645944e-02],\n",
      "       [-9.61093158e-02],\n",
      "       [-1.01297349e-02],\n",
      "       [ 1.54999793e-02],\n",
      "       [ 5.55739701e-02],\n",
      "       [-9.65491384e-02],\n",
      "       [ 1.43329799e-03],\n",
      "       [-1.34040013e-01],\n",
      "       [-3.55394185e-03],\n",
      "       [ 9.82071459e-03],\n",
      "       [-1.79515034e-02],\n",
      "       [ 1.27214700e-01],\n",
      "       [-9.82096568e-02],\n",
      "       [-3.26616094e-02],\n",
      "       [-1.34971395e-01],\n",
      "       [ 7.16628432e-02],\n",
      "       [ 2.78699696e-02],\n",
      "       [ 1.26932621e-01],\n",
      "       [-7.73516297e-03],\n",
      "       [-2.89445147e-02],\n",
      "       [-2.03320682e-02],\n",
      "       [-1.05988175e-01],\n",
      "       [-7.18581825e-02],\n",
      "       [-5.03006652e-02],\n",
      "       [ 1.05723798e-01],\n",
      "       [ 1.13684684e-02],\n",
      "       [ 3.12296599e-02],\n",
      "       [-1.21619999e-02],\n",
      "       [-9.08271968e-03],\n",
      "       [ 1.01624176e-01],\n",
      "       [ 3.17163318e-02],\n",
      "       [ 1.07225165e-01],\n",
      "       [ 1.39141262e-01],\n",
      "       [ 1.53860301e-02],\n",
      "       [ 8.00755024e-02],\n",
      "       [-3.72949392e-02],\n",
      "       [-1.03832729e-01],\n",
      "       [ 1.06031060e-01],\n",
      "       [-1.14537500e-01],\n",
      "       [ 5.28338850e-02],\n",
      "       [-4.78455350e-02],\n",
      "       [ 8.12762827e-02],\n",
      "       [-1.33451253e-01],\n",
      "       [ 1.29525453e-01],\n",
      "       [ 2.97613442e-03],\n",
      "       [ 1.26912862e-01],\n",
      "       [ 1.21340871e-01],\n",
      "       [-7.03024864e-03],\n",
      "       [-7.10164756e-02],\n",
      "       [-4.49685305e-02],\n",
      "       [ 1.45978183e-02],\n",
      "       [-1.15023635e-01],\n",
      "       [ 1.01898268e-01],\n",
      "       [-1.24576144e-01],\n",
      "       [ 8.83859396e-02],\n",
      "       [ 7.51188993e-02],\n",
      "       [-5.39839640e-02],\n",
      "       [ 3.61469090e-02],\n",
      "       [-1.22247919e-01],\n",
      "       [ 1.02030426e-01],\n",
      "       [ 4.54204381e-02],\n",
      "       [-1.22318238e-01],\n",
      "       [ 8.49599838e-02],\n",
      "       [-5.43749481e-02],\n",
      "       [-3.66570503e-02],\n",
      "       [ 6.65106922e-02],\n",
      "       [ 1.38884336e-01],\n",
      "       [-1.26850888e-01],\n",
      "       [-1.29077211e-01],\n",
      "       [-1.05402797e-01],\n",
      "       [-7.37419054e-02],\n",
      "       [-9.24783945e-02],\n",
      "       [ 5.55221736e-03],\n",
      "       [-2.81604379e-02],\n",
      "       [ 1.71266645e-02],\n",
      "       [ 1.32045299e-02],\n",
      "       [ 9.08085257e-02],\n",
      "       [-3.68186980e-02],\n",
      "       [ 1.27673149e-01],\n",
      "       [ 1.39569223e-01],\n",
      "       [-1.34311020e-02],\n",
      "       [ 1.05757356e-01],\n",
      "       [-9.12366956e-02],\n",
      "       [-1.10724367e-01],\n",
      "       [-2.73905024e-02],\n",
      "       [-1.19572774e-01],\n",
      "       [ 1.38023615e-01],\n",
      "       [ 1.07190281e-01],\n",
      "       [ 3.64029408e-02],\n",
      "       [ 1.26622140e-01],\n",
      "       [-1.38992518e-01],\n",
      "       [ 1.14927948e-01],\n",
      "       [-1.28954962e-01],\n",
      "       [-3.65858227e-02],\n",
      "       [ 7.97514766e-02],\n",
      "       [-1.10618606e-01],\n",
      "       [ 1.40696228e-01],\n",
      "       [ 8.39379132e-02],\n",
      "       [-1.39857143e-01],\n",
      "       [ 1.04165643e-01],\n",
      "       [ 1.04137957e-02],\n",
      "       [-1.26440048e-01],\n",
      "       [-7.41844550e-02],\n",
      "       [ 1.06915012e-01],\n",
      "       [ 3.73676866e-02],\n",
      "       [ 1.07458293e-01],\n",
      "       [ 1.23159438e-02],\n",
      "       [-9.18342173e-02],\n",
      "       [ 1.19262487e-02],\n",
      "       [ 1.15351796e-01],\n",
      "       [-4.65472490e-02],\n",
      "       [ 6.50939941e-02],\n",
      "       [-5.60035482e-02],\n",
      "       [ 6.07949197e-02],\n",
      "       [ 1.29468858e-01],\n",
      "       [-1.31906152e-01],\n",
      "       [ 2.89572775e-02],\n",
      "       [-1.23619787e-01],\n",
      "       [-5.18558547e-02],\n",
      "       [-1.34822309e-01],\n",
      "       [ 1.87650323e-02],\n",
      "       [-9.19070244e-02],\n",
      "       [-1.22640476e-01],\n",
      "       [-6.78281486e-03],\n",
      "       [ 5.14381826e-02],\n",
      "       [-2.21910253e-02],\n",
      "       [ 1.28742129e-01],\n",
      "       [ 9.04184133e-02],\n",
      "       [-1.37913704e-01],\n",
      "       [-1.29587218e-01],\n",
      "       [ 3.92614007e-02],\n",
      "       [-7.69765005e-02],\n",
      "       [ 1.40165746e-01],\n",
      "       [ 3.14257592e-02],\n",
      "       [ 4.55922484e-02],\n",
      "       [-5.42536303e-02],\n",
      "       [ 8.83966833e-02],\n",
      "       [-1.06883869e-01],\n",
      "       [-8.22643414e-02],\n",
      "       [ 6.51526898e-02],\n",
      "       [-5.12495115e-02],\n",
      "       [-1.09837949e-02],\n",
      "       [ 5.60410172e-02],\n",
      "       [ 5.20812273e-02],\n",
      "       [-1.96819007e-03],\n",
      "       [ 1.40428543e-04],\n",
      "       [-1.16848499e-02],\n",
      "       [ 3.46974880e-02],\n",
      "       [-1.85727254e-02],\n",
      "       [-1.17387913e-01],\n",
      "       [ 8.41328204e-02],\n",
      "       [ 7.12576360e-02],\n",
      "       [-1.27619907e-01],\n",
      "       [ 1.15523994e-01],\n",
      "       [ 3.01727504e-02],\n",
      "       [-9.19325799e-02],\n",
      "       [ 7.89659917e-02],\n",
      "       [-1.40882716e-01],\n",
      "       [ 4.31380272e-02],\n",
      "       [-9.22097787e-02],\n",
      "       [ 1.10794157e-01],\n",
      "       [ 6.72833323e-02],\n",
      "       [ 1.15157932e-01],\n",
      "       [-3.25242355e-02],\n",
      "       [ 1.34201974e-01],\n",
      "       [ 9.80934501e-03],\n",
      "       [-7.77587295e-02],\n",
      "       [-1.08047724e-02],\n",
      "       [ 5.08856624e-02],\n",
      "       [ 1.02340996e-01],\n",
      "       [ 9.08868760e-02],\n",
      "       [ 3.69922817e-03],\n",
      "       [ 9.01331306e-02],\n",
      "       [ 1.28154367e-01],\n",
      "       [-1.31244704e-01],\n",
      "       [-1.03718519e-01],\n",
      "       [ 1.66883171e-02],\n",
      "       [-7.61220381e-02],\n",
      "       [-1.27319783e-01],\n",
      "       [-3.55887413e-02],\n",
      "       [ 1.17909789e-01],\n",
      "       [-4.78273630e-02],\n",
      "       [ 4.81885523e-02],\n",
      "       [-1.33775339e-01],\n",
      "       [-2.78823972e-02],\n",
      "       [-8.02040994e-02]], dtype=float32), array([0.], dtype=float32)]\n"
     ]
    }
   ],
   "source": [
    "# Podemos ver las variables intermedias. El algoritmo interpreta que estás combinaciones podrán llegar al resultado \n",
    "# más óptimo. \n",
    "print(\"\\n Combinaciones internas Capa_Oculta_1 \\n\\n\", capa_oculta1.get_weights())\n",
    "print(\"\\n Combinaciones internas Capa_Oculta_2 \\n\\n\", capa_oculta2.get_weights())\n",
    "print(\"\\n Combinaciones Salida \\n\\n\", salida.get_weights())"
   ]
  },
  {
   "cell_type": "markdown",
   "metadata": {},
   "source": [
    "#### Entrenamiento del Modelo."
   ]
  },
  {
   "cell_type": "code",
   "execution_count": 55,
   "metadata": {
    "execution": {
     "iopub.execute_input": "2021-12-19T15:39:00.315210Z",
     "iopub.status.busy": "2021-12-19T15:39:00.314410Z",
     "iopub.status.idle": "2021-12-19T15:41:03.598966Z",
     "shell.execute_reply": "2021-12-19T15:41:03.597852Z",
     "shell.execute_reply.started": "2021-12-19T15:39:00.315168Z"
    },
    "scrolled": false
   },
   "outputs": [
    {
     "name": "stdout",
     "output_type": "stream",
     "text": [
      "Comenzamos a entrenar datos de entrenamiento.........\n",
      "Train on 9076 samples\n",
      "Epoch 1/100\n",
      "9076/9076 [==============================] - 1s 109us/sample - loss: -70166.0504 - accuracy: 0.0000e+00\n",
      "Epoch 2/100\n",
      "9076/9076 [==============================] - 0s 33us/sample - loss: -70192.6338 - accuracy: 0.0000e+00\n",
      "Epoch 3/100\n",
      "9076/9076 [==============================] - 0s 33us/sample - loss: -70192.6333 - accuracy: 0.0000e+00\n",
      "Epoch 4/100\n",
      "9076/9076 [==============================] - 0s 32us/sample - loss: -70192.6338 - accuracy: 0.0000e+00\n",
      "Epoch 5/100\n",
      "9076/9076 [==============================] - 0s 36us/sample - loss: -70192.6346 - accuracy: 0.0000e+00\n",
      "Epoch 6/100\n",
      "9076/9076 [==============================] - 0s 37us/sample - loss: -70192.6347 - accuracy: 0.0000e+00\n",
      "Epoch 7/100\n",
      "9076/9076 [==============================] - 0s 37us/sample - loss: -70192.6344 - accuracy: 0.0000e+00\n",
      "Epoch 8/100\n",
      "9076/9076 [==============================] - 0s 32us/sample - loss: -70192.6348 - accuracy: 0.0000e+00\n",
      "Epoch 9/100\n",
      "9076/9076 [==============================] - 0s 33us/sample - loss: -70192.6344 - accuracy: 0.0000e+00\n",
      "Epoch 10/100\n",
      "9076/9076 [==============================] - 0s 33us/sample - loss: -70192.6339 - accuracy: 0.0000e+00\n",
      "Epoch 11/100\n",
      "9076/9076 [==============================] - 0s 33us/sample - loss: -70192.6343 - accuracy: 0.0000e+00\n",
      "Epoch 12/100\n",
      "9076/9076 [==============================] - 0s 31us/sample - loss: -70192.6335 - accuracy: 0.0000e+00\n",
      "Epoch 13/100\n",
      "9076/9076 [==============================] - 0s 32us/sample - loss: -70192.6344 - accuracy: 0.0000e+00\n",
      "Epoch 14/100\n",
      "9076/9076 [==============================] - 0s 33us/sample - loss: -70192.6350 - accuracy: 0.0000e+00\n",
      "Epoch 15/100\n",
      "9076/9076 [==============================] - 0s 32us/sample - loss: -70192.6341 - accuracy: 0.0000e+00\n",
      "Epoch 16/100\n",
      "9076/9076 [==============================] - 0s 31us/sample - loss: -70192.6325 - accuracy: 0.0000e+00\n",
      "Epoch 17/100\n",
      "9076/9076 [==============================] - 0s 31us/sample - loss: -70192.6346 - accuracy: 0.0000e+00\n",
      "Epoch 18/100\n",
      "9076/9076 [==============================] - 0s 33us/sample - loss: -70192.6334 - accuracy: 0.0000e+00\n",
      "Epoch 19/100\n",
      "9076/9076 [==============================] - 0s 31us/sample - loss: -70192.6343 - accuracy: 0.0000e+00\n",
      "Epoch 20/100\n",
      "9076/9076 [==============================] - 0s 32us/sample - loss: -70192.6348 - accuracy: 0.0000e+00\n",
      "Epoch 21/100\n",
      "9076/9076 [==============================] - 0s 31us/sample - loss: -70192.6338 - accuracy: 0.0000e+00\n",
      "Epoch 22/100\n",
      "9076/9076 [==============================] - 0s 31us/sample - loss: -70192.6355 - accuracy: 0.0000e+00\n",
      "Epoch 23/100\n",
      "9076/9076 [==============================] - 0s 31us/sample - loss: -70192.6350 - accuracy: 0.0000e+00\n",
      "Epoch 24/100\n",
      "9076/9076 [==============================] - 0s 31us/sample - loss: -70192.6350 - accuracy: 0.0000e+00\n",
      "Epoch 25/100\n",
      "9076/9076 [==============================] - 0s 31us/sample - loss: -70192.6354 - accuracy: 0.0000e+00\n",
      "Epoch 26/100\n",
      "9076/9076 [==============================] - 0s 31us/sample - loss: -70192.6336 - accuracy: 0.0000e+00\n",
      "Epoch 27/100\n",
      "9076/9076 [==============================] - 0s 31us/sample - loss: -70192.6329 - accuracy: 0.0000e+00\n",
      "Epoch 28/100\n",
      "9076/9076 [==============================] - 0s 31us/sample - loss: -70192.6341 - accuracy: 0.0000e+00\n",
      "Epoch 29/100\n",
      "9076/9076 [==============================] - 0s 31us/sample - loss: -70192.6341 - accuracy: 0.0000e+00\n",
      "Epoch 30/100\n",
      "9076/9076 [==============================] - 0s 32us/sample - loss: -70192.6334 - accuracy: 0.0000e+00\n",
      "Epoch 31/100\n",
      "9076/9076 [==============================] - 0s 31us/sample - loss: -70192.6337 - accuracy: 0.0000e+00\n",
      "Epoch 32/100\n",
      "9076/9076 [==============================] - 0s 31us/sample - loss: -70192.6338 - accuracy: 0.0000e+00\n",
      "Epoch 33/100\n",
      "9076/9076 [==============================] - 0s 31us/sample - loss: -70192.6330 - accuracy: 0.0000e+00\n",
      "Epoch 34/100\n",
      "9076/9076 [==============================] - 0s 31us/sample - loss: -70192.6336 - accuracy: 0.0000e+00\n",
      "Epoch 35/100\n",
      "9076/9076 [==============================] - 0s 31us/sample - loss: -70192.6337 - accuracy: 0.0000e+00\n",
      "Epoch 36/100\n",
      "9076/9076 [==============================] - 0s 30us/sample - loss: -70192.6335 - accuracy: 0.0000e+00\n",
      "Epoch 37/100\n",
      "9076/9076 [==============================] - 0s 31us/sample - loss: -70192.6333 - accuracy: 0.0000e+00\n",
      "Epoch 38/100\n",
      "9076/9076 [==============================] - 0s 31us/sample - loss: -70192.6345 - accuracy: 0.0000e+00\n",
      "Epoch 39/100\n",
      "9076/9076 [==============================] - 0s 33us/sample - loss: -70192.6345 - accuracy: 0.0000e+00\n",
      "Epoch 40/100\n",
      "9076/9076 [==============================] - 0s 31us/sample - loss: -70192.6342 - accuracy: 0.0000e+00\n",
      "Epoch 41/100\n",
      "9076/9076 [==============================] - 0s 31us/sample - loss: -70192.6366 - accuracy: 0.0000e+00\n",
      "Epoch 42/100\n",
      "9076/9076 [==============================] - 0s 31us/sample - loss: -70192.6344 - accuracy: 0.0000e+00\n",
      "Epoch 43/100\n",
      "9076/9076 [==============================] - 0s 31us/sample - loss: -70192.6343 - accuracy: 0.0000e+00\n",
      "Epoch 44/100\n",
      "9076/9076 [==============================] - 0s 30us/sample - loss: -70192.6338 - accuracy: 0.0000e+00\n",
      "Epoch 45/100\n",
      "9076/9076 [==============================] - 0s 31us/sample - loss: -70192.6345 - accuracy: 0.0000e+00\n",
      "Epoch 46/100\n",
      "9076/9076 [==============================] - 0s 31us/sample - loss: -70192.6348 - accuracy: 0.0000e+00\n",
      "Epoch 47/100\n",
      "9076/9076 [==============================] - 0s 31us/sample - loss: -70192.6357 - accuracy: 0.0000e+00\n",
      "Epoch 48/100\n",
      "9076/9076 [==============================] - 0s 30us/sample - loss: -70192.6355 - accuracy: 0.0000e+00\n",
      "Epoch 49/100\n",
      "9076/9076 [==============================] - 0s 31us/sample - loss: -70192.6339 - accuracy: 0.0000e+00\n",
      "Epoch 50/100\n",
      "9076/9076 [==============================] - 0s 31us/sample - loss: -70192.6345 - accuracy: 0.0000e+00\n",
      "Epoch 51/100\n",
      "9076/9076 [==============================] - 0s 31us/sample - loss: -70192.6347 - accuracy: 0.0000e+00\n",
      "Epoch 52/100\n",
      "9076/9076 [==============================] - 0s 31us/sample - loss: -70192.6350 - accuracy: 0.0000e+00\n",
      "Epoch 53/100\n",
      "9076/9076 [==============================] - 0s 31us/sample - loss: -70192.6344 - accuracy: 0.0000e+00\n",
      "Epoch 54/100\n",
      "9076/9076 [==============================] - 0s 31us/sample - loss: -70192.6343 - accuracy: 0.0000e+00\n",
      "Epoch 55/100\n",
      "9076/9076 [==============================] - 0s 31us/sample - loss: -70192.6337 - accuracy: 0.0000e+00\n",
      "Epoch 56/100\n",
      "9076/9076 [==============================] - 0s 31us/sample - loss: -70192.6355 - accuracy: 0.0000e+00\n",
      "Epoch 57/100\n",
      "9076/9076 [==============================] - 0s 30us/sample - loss: -70192.6329 - accuracy: 0.0000e+00\n",
      "Epoch 58/100\n",
      "9076/9076 [==============================] - 0s 31us/sample - loss: -70192.6341 - accuracy: 0.0000e+00\n",
      "Epoch 59/100\n",
      "9076/9076 [==============================] - 0s 30us/sample - loss: -70192.6330 - accuracy: 0.0000e+00\n",
      "Epoch 60/100\n",
      "9076/9076 [==============================] - 0s 32us/sample - loss: -70192.6350 - accuracy: 0.0000e+00\n",
      "Epoch 61/100\n",
      "9076/9076 [==============================] - 0s 36us/sample - loss: -70192.6338 - accuracy: 0.0000e+00\n",
      "Epoch 62/100\n",
      "9076/9076 [==============================] - 0s 36us/sample - loss: -70192.6348 - accuracy: 0.0000e+00\n",
      "Epoch 63/100\n",
      "9076/9076 [==============================] - 0s 32us/sample - loss: -70192.6338 - accuracy: 0.0000e+00\n",
      "Epoch 64/100\n",
      "9076/9076 [==============================] - 0s 30us/sample - loss: -70192.6332 - accuracy: 0.0000e+00\n",
      "Epoch 65/100\n",
      "9076/9076 [==============================] - 0s 30us/sample - loss: -70192.6344 - accuracy: 0.0000e+00\n",
      "Epoch 66/100\n",
      "9076/9076 [==============================] - 0s 31us/sample - loss: -70192.6328 - accuracy: 0.0000e+00\n",
      "Epoch 67/100\n",
      "9076/9076 [==============================] - 0s 31us/sample - loss: -70192.6354 - accuracy: 0.0000e+00\n",
      "Epoch 68/100\n",
      "9076/9076 [==============================] - 0s 31us/sample - loss: -70192.6353 - accuracy: 0.0000e+00\n",
      "Epoch 69/100\n",
      "9076/9076 [==============================] - 0s 31us/sample - loss: -70192.6343 - accuracy: 0.0000e+00\n",
      "Epoch 70/100\n",
      "9076/9076 [==============================] - 0s 31us/sample - loss: -70192.6337 - accuracy: 0.0000e+00\n",
      "Epoch 71/100\n"
     ]
    },
    {
     "name": "stdout",
     "output_type": "stream",
     "text": [
      "9076/9076 [==============================] - 0s 31us/sample - loss: -70192.6336 - accuracy: 0.0000e+00\n",
      "Epoch 72/100\n",
      "9076/9076 [==============================] - 0s 31us/sample - loss: -70192.6360 - accuracy: 0.0000e+00\n",
      "Epoch 73/100\n",
      "9076/9076 [==============================] - 0s 31us/sample - loss: -70192.6335 - accuracy: 0.0000e+00\n",
      "Epoch 74/100\n",
      "9076/9076 [==============================] - 0s 31us/sample - loss: -70192.6321 - accuracy: 0.0000e+00\n",
      "Epoch 75/100\n",
      "9076/9076 [==============================] - 0s 31us/sample - loss: -70192.6337 - accuracy: 0.0000e+00\n",
      "Epoch 76/100\n",
      "9076/9076 [==============================] - 0s 31us/sample - loss: -70192.6329 - accuracy: 0.0000e+00\n",
      "Epoch 77/100\n",
      "9076/9076 [==============================] - 0s 31us/sample - loss: -70192.6335 - accuracy: 0.0000e+00\n",
      "Epoch 78/100\n",
      "9076/9076 [==============================] - 0s 30us/sample - loss: -70192.6345 - accuracy: 0.0000e+00\n",
      "Epoch 79/100\n",
      "9076/9076 [==============================] - 0s 31us/sample - loss: -70192.6332 - accuracy: 0.0000e+00\n",
      "Epoch 80/100\n",
      "9076/9076 [==============================] - 0s 31us/sample - loss: -70192.6343 - accuracy: 0.0000e+00\n",
      "Epoch 81/100\n",
      "9076/9076 [==============================] - 0s 31us/sample - loss: -70192.6341 - accuracy: 0.0000e+00\n",
      "Epoch 82/100\n",
      "9076/9076 [==============================] - 0s 31us/sample - loss: -70192.6354 - accuracy: 0.0000e+00\n",
      "Epoch 83/100\n",
      "9076/9076 [==============================] - 0s 31us/sample - loss: -70192.6323 - accuracy: 0.0000e+00\n",
      "Epoch 84/100\n",
      "9076/9076 [==============================] - 0s 31us/sample - loss: -70192.6344 - accuracy: 0.0000e+00\n",
      "Epoch 85/100\n",
      "9076/9076 [==============================] - 0s 31us/sample - loss: -70192.6322 - accuracy: 0.0000e+00\n",
      "Epoch 86/100\n",
      "9076/9076 [==============================] - 0s 31us/sample - loss: -70192.6337 - accuracy: 0.0000e+00\n",
      "Epoch 87/100\n",
      "9076/9076 [==============================] - 0s 31us/sample - loss: -70192.6339 - accuracy: 0.0000e+00\n",
      "Epoch 88/100\n",
      "9076/9076 [==============================] - 0s 30us/sample - loss: -70192.6335 - accuracy: 0.0000e+00\n",
      "Epoch 89/100\n",
      "9076/9076 [==============================] - 0s 31us/sample - loss: -70192.6339 - accuracy: 0.0000e+00\n",
      "Epoch 90/100\n",
      "9076/9076 [==============================] - 0s 31us/sample - loss: -70192.6352 - accuracy: 0.0000e+00\n",
      "Epoch 91/100\n",
      "9076/9076 [==============================] - 0s 30us/sample - loss: -70192.6350 - accuracy: 0.0000e+00\n",
      "Epoch 92/100\n",
      "9076/9076 [==============================] - 0s 31us/sample - loss: -70192.6352 - accuracy: 0.0000e+00\n",
      "Epoch 93/100\n",
      "9076/9076 [==============================] - 0s 31us/sample - loss: -70192.6330 - accuracy: 0.0000e+00\n",
      "Epoch 94/100\n",
      "9076/9076 [==============================] - 0s 31us/sample - loss: -70192.6343 - accuracy: 0.0000e+00\n",
      "Epoch 95/100\n",
      "9076/9076 [==============================] - 0s 31us/sample - loss: -70192.6330 - accuracy: 0.0000e+00\n",
      "Epoch 96/100\n",
      "9076/9076 [==============================] - 0s 31us/sample - loss: -70192.6326 - accuracy: 0.0000e+00\n",
      "Epoch 97/100\n",
      "9076/9076 [==============================] - 0s 31us/sample - loss: -70192.6332 - accuracy: 0.0000e+00\n",
      "Epoch 98/100\n",
      "9076/9076 [==============================] - 0s 31us/sample - loss: -70192.6346 - accuracy: 0.0000e+00\n",
      "Epoch 99/100\n",
      "9076/9076 [==============================] - 0s 31us/sample - loss: -70192.6349 - accuracy: 0.0000e+00\n",
      "Epoch 100/100\n",
      "9076/9076 [==============================] - 0s 31us/sample - loss: -70192.6322 - accuracy: 0.0000e+00\n",
      "Fin del entrenamiento ......\n"
     ]
    }
   ],
   "source": [
    "# Voy a emplear 100 vueltas, es un número al azar, posteriormente veremos si este modelo se ha ajustado, \n",
    "# si no es así le subiremos las vueltas. Le indicaremos un verbose=false para que no nos imprima nada por\n",
    "# pantalla, ya que es mucho texto el que saldrá.\n",
    "\n",
    "print('Comenzamos a entrenar datos de entrenamiento.........')\n",
    "training_model = model.fit(X_train.values, y_train.values, epochs = 100,batch_size=300)\n",
    "print('Fin del entrenamiento ......')"
   ]
  },
  {
   "cell_type": "markdown",
   "metadata": {},
   "source": [
    "#### Visualizacíon de la función de perdida."
   ]
  },
  {
   "cell_type": "code",
   "execution_count": 56,
   "metadata": {
    "execution": {
     "iopub.execute_input": "2021-12-19T15:48:15.328274Z",
     "iopub.status.busy": "2021-12-19T15:48:15.328007Z",
     "iopub.status.idle": "2021-12-19T15:48:15.594256Z",
     "shell.execute_reply": "2021-12-19T15:48:15.593222Z",
     "shell.execute_reply.started": "2021-12-19T15:48:15.328241Z"
    }
   },
   "outputs": [
    {
     "data": {
      "text/plain": [
       "[<matplotlib.lines.Line2D at 0x7fa180bcc550>]"
      ]
     },
     "execution_count": 56,
     "metadata": {},
     "output_type": "execute_result"
    },
    {
     "data": {
      "image/png": "[encoded data removed]",
      "text/plain": [
       "<Figure size 432x288 with 1 Axes>"
      ]
     },
     "metadata": {
      "needs_background": "light"
     },
     "output_type": "display_data"
    }
   ],
   "source": [
    "# Una vez que tenemos entrenado el modelo y listo para realizar las predicciones, vamos a \n",
    "# vamos a ver el resultado de la función de perdida. La función de pérdida mide la capacidad del modelo para \n",
    "# predecir los resultados esperados.\n",
    "plt.xlabel(\"Epoca\")\n",
    "plt.ylabel(\"Perdida\")\n",
    "plt.plot(training_model.history[\"loss\"])"
   ]
  },
  {
   "cell_type": "markdown",
   "metadata": {},
   "source": [
    "\n",
    "\n",
    "## Regresión Lineal."
   ]
  },
  {
   "cell_type": "code",
   "execution_count": 57,
   "metadata": {
    "execution": {
     "iopub.execute_input": "2021-12-19T15:48:20.506738Z",
     "iopub.status.busy": "2021-12-19T15:48:20.505966Z",
     "iopub.status.idle": "2021-12-19T15:48:20.517335Z",
     "shell.execute_reply": "2021-12-19T15:48:20.516269Z",
     "shell.execute_reply.started": "2021-12-19T15:48:20.506684Z"
    }
   },
   "outputs": [],
   "source": [
    "# Definimos el algoritmo a usar \"Regresión Lineal\"\n",
    "lr = linear_model.LinearRegression()\n",
    "\n",
    "# Entrenamos el modelo\n",
    "lr.fit(X_train, y_train)\n",
    "\n",
    "# Realizamos la predicción\n",
    "Y_pred = lr.predict(X_test)"
   ]
  },
  {
   "cell_type": "markdown",
   "metadata": {},
   "source": [
    "### Calculamos los datos de la pendiente y la interseccion"
   ]
  },
  {
   "cell_type": "code",
   "execution_count": 58,
   "metadata": {
    "execution": {
     "iopub.execute_input": "2021-12-19T14:32:05.056465Z",
     "iopub.status.busy": "2021-12-19T14:32:05.056186Z",
     "iopub.status.idle": "2021-12-19T14:32:05.064098Z",
     "shell.execute_reply": "2021-12-19T14:32:05.062843Z",
     "shell.execute_reply.started": "2021-12-19T14:32:05.056437Z"
    }
   },
   "outputs": [
    {
     "name": "stdout",
     "output_type": "stream",
     "text": [
      "\n",
      "DATOS DEL MODELO REGRESIÓN LINEAL\n",
      "\n",
      "Valor de la pendiente o coeficiente \"a\":\n",
      "[-304.63922988   97.88794504  320.05248636    3.86759502   23.13630593\n",
      "    9.71057488  -43.43179134   -1.24336035  -64.05112244 -274.66773164\n",
      "  -43.99808291  527.81988999]\n",
      "Valor de la intersección o coeficiente \"b\":\n",
      "5681.341144025081\n"
     ]
    }
   ],
   "source": [
    "print()\n",
    "print('DATOS DEL MODELO REGRESIÓN LINEAL')\n",
    "print()\n",
    "print('Valor de la pendiente o coeficiente \"a\":')\n",
    "print(lr.coef_)\n",
    "print('Valor de la intersección o coeficiente \"b\":')\n",
    "print(lr.intercept_)"
   ]
  },
  {
   "cell_type": "markdown",
   "metadata": {},
   "source": [
    "#### Ahora juntamos la ecuación por completo\n"
   ]
  },
  {
   "cell_type": "code",
   "execution_count": 59,
   "metadata": {
    "execution": {
     "iopub.execute_input": "2021-12-19T14:32:13.810852Z",
     "iopub.status.busy": "2021-12-19T14:32:13.810565Z",
     "iopub.status.idle": "2021-12-19T14:32:13.817540Z",
     "shell.execute_reply": "2021-12-19T14:32:13.816721Z",
     "shell.execute_reply.started": "2021-12-19T14:32:13.810814Z"
    }
   },
   "outputs": [
    {
     "name": "stdout",
     "output_type": "stream",
     "text": [
      "La ecuación del modelo es igual a:\n",
      "y = [-304.63922988   97.88794504  320.05248636    3.86759502   23.13630593\n",
      "    9.71057488  -43.43179134   -1.24336035  -64.05112244 -274.66773164\n",
      "  -43.99808291  527.81988999] x  5681.341144025081\n"
     ]
    }
   ],
   "source": [
    "print('La ecuación del modelo es igual a:')\n",
    "print('y =', lr.coef_, 'x ', lr.intercept_)"
   ]
  },
  {
   "cell_type": "markdown",
   "metadata": {},
   "source": [
    "# Precisión del Modelo."
   ]
  },
  {
   "cell_type": "code",
   "execution_count": 60,
   "metadata": {
    "execution": {
     "iopub.execute_input": "2021-12-19T14:32:18.061135Z",
     "iopub.status.busy": "2021-12-19T14:32:18.060335Z",
     "iopub.status.idle": "2021-12-19T14:32:18.073609Z",
     "shell.execute_reply": "2021-12-19T14:32:18.072682Z",
     "shell.execute_reply.started": "2021-12-19T14:32:18.061102Z"
    }
   },
   "outputs": [
    {
     "name": "stdout",
     "output_type": "stream",
     "text": [
      "Precisión del modelo\n",
      "0.059731120549284755\n"
     ]
    }
   ],
   "source": [
    "print('Precisión del modelo')\n",
    "print(lr.score(X_train, y_train))"
   ]
  },
  {
   "cell_type": "code",
   "execution_count": 66,
   "metadata": {
    "execution": {
     "iopub.execute_input": "2021-12-19T15:46:42.032130Z",
     "iopub.status.busy": "2021-12-19T15:46:42.031682Z",
     "iopub.status.idle": "2021-12-19T15:46:42.045169Z",
     "shell.execute_reply": "2021-12-19T15:46:42.043964Z",
     "shell.execute_reply.started": "2021-12-19T15:46:42.032074Z"
    }
   },
   "outputs": [
    {
     "name": "stderr",
     "output_type": "stream",
     "text": [
      "/Users/joseplasenciavillarejo/opt/anaconda3/envs/tensorflow_env/lib/python3.7/site-packages/sklearn/linear_model/_base.py:145: FutureWarning: 'normalize' was deprecated in version 1.0 and will be removed in 1.2.\n",
      "If you wish to scale the data, use Pipeline with a StandardScaler in a preprocessing stage. To reproduce the previous behavior:\n",
      "\n",
      "from sklearn.pipeline import make_pipeline\n",
      "\n",
      "model = make_pipeline(StandardScaler(with_mean=False), LinearRegression())\n",
      "\n",
      "If you wish to pass a sample_weight parameter, you need to pass it as a fit parameter to each step of the pipeline as follows:\n",
      "\n",
      "kwargs = {s[0] + '__sample_weight': sample_weight for s in model.steps}\n",
      "model.fit(X, y, **kwargs)\n",
      "\n",
      "\n",
      "  FutureWarning,\n"
     ]
    },
    {
     "data": {
      "text/plain": [
       "LinearRegression(normalize=True)"
      ]
     },
     "execution_count": 66,
     "metadata": {},
     "output_type": "execute_result"
    }
   ],
   "source": [
    "from sklearn.linear_model import LinearRegression\n",
    "\n",
    "regresionLineal = LinearRegression(normalize=True)\n",
    "regresionLineal.fit(X_train,y_train)"
   ]
  },
  {
   "cell_type": "code",
   "execution_count": 67,
   "metadata": {
    "execution": {
     "iopub.execute_input": "2021-12-19T15:49:36.862970Z",
     "iopub.status.busy": "2021-12-19T15:49:36.862528Z",
     "iopub.status.idle": "2021-12-19T15:49:36.880930Z",
     "shell.execute_reply": "2021-12-19T15:49:36.879702Z",
     "shell.execute_reply.started": "2021-12-19T15:49:36.862922Z"
    }
   },
   "outputs": [
    {
     "data": {
      "text/html": [
       "<div>\n",
       "<style scoped>\n",
       "    .dataframe tbody tr th:only-of-type {\n",
       "        vertical-align: middle;\n",
       "    }\n",
       "\n",
       "    .dataframe tbody tr th {\n",
       "        vertical-align: top;\n",
       "    }\n",
       "\n",
       "    .dataframe thead th {\n",
       "        text-align: right;\n",
       "    }\n",
       "</style>\n",
       "<table border=\"1\" class=\"dataframe\">\n",
       "  <thead>\n",
       "    <tr style=\"text-align: right;\">\n",
       "      <th></th>\n",
       "      <th>Y_Test</th>\n",
       "      <th>Y_Pred</th>\n",
       "      <th>Residuals</th>\n",
       "    </tr>\n",
       "  </thead>\n",
       "  <tbody>\n",
       "    <tr>\n",
       "      <th>7358</th>\n",
       "      <td>180</td>\n",
       "      <td>3819.521926</td>\n",
       "      <td>-3639.521926</td>\n",
       "    </tr>\n",
       "    <tr>\n",
       "      <th>9393</th>\n",
       "      <td>4308</td>\n",
       "      <td>5078.843662</td>\n",
       "      <td>-770.843662</td>\n",
       "    </tr>\n",
       "    <tr>\n",
       "      <th>10694</th>\n",
       "      <td>7989</td>\n",
       "      <td>5837.714910</td>\n",
       "      <td>2151.285090</td>\n",
       "    </tr>\n",
       "    <tr>\n",
       "      <th>1287</th>\n",
       "      <td>6000</td>\n",
       "      <td>3897.891121</td>\n",
       "      <td>2102.108879</td>\n",
       "    </tr>\n",
       "    <tr>\n",
       "      <th>7620</th>\n",
       "      <td>3361</td>\n",
       "      <td>4472.454433</td>\n",
       "      <td>-1111.454433</td>\n",
       "    </tr>\n",
       "    <tr>\n",
       "      <th>10035</th>\n",
       "      <td>2693</td>\n",
       "      <td>5919.274733</td>\n",
       "      <td>-3226.274733</td>\n",
       "    </tr>\n",
       "    <tr>\n",
       "      <th>6229</th>\n",
       "      <td>1974</td>\n",
       "      <td>4697.717500</td>\n",
       "      <td>-2723.717500</td>\n",
       "    </tr>\n",
       "    <tr>\n",
       "      <th>5898</th>\n",
       "      <td>5181</td>\n",
       "      <td>4198.479593</td>\n",
       "      <td>982.520407</td>\n",
       "    </tr>\n",
       "    <tr>\n",
       "      <th>5417</th>\n",
       "      <td>462</td>\n",
       "      <td>3831.246722</td>\n",
       "      <td>-3369.246722</td>\n",
       "    </tr>\n",
       "    <tr>\n",
       "      <th>5283</th>\n",
       "      <td>2691</td>\n",
       "      <td>4967.966579</td>\n",
       "      <td>-2276.966579</td>\n",
       "    </tr>\n",
       "  </tbody>\n",
       "</table>\n",
       "</div>"
      ],
      "text/plain": [
       "       Y_Test       Y_Pred    Residuals\n",
       "7358      180  3819.521926 -3639.521926\n",
       "9393     4308  5078.843662  -770.843662\n",
       "10694    7989  5837.714910  2151.285090\n",
       "1287     6000  3897.891121  2102.108879\n",
       "7620     3361  4472.454433 -1111.454433\n",
       "10035    2693  5919.274733 -3226.274733\n",
       "6229     1974  4697.717500 -2723.717500\n",
       "5898     5181  4198.479593   982.520407\n",
       "5417      462  3831.246722 -3369.246722\n",
       "5283     2691  4967.966579 -2276.966579"
      ]
     },
     "execution_count": 67,
     "metadata": {},
     "output_type": "execute_result"
    }
   ],
   "source": [
    "y_pred=regresionLineal.predict(X_test)\n",
    "pd.DataFrame({'Y_Test': y_test,'Y_Pred':Y_pred, 'Residuals':(y_test-y_pred) }).head(10)"
   ]
  },
  {
   "cell_type": "markdown",
   "metadata": {},
   "source": [
    "# Vamos a calcular la Intercepción y el Coeficiente."
   ]
  },
  {
   "cell_type": "code",
   "execution_count": 48,
   "metadata": {
    "execution": {
     "iopub.execute_input": "2021-12-19T15:50:05.644605Z",
     "iopub.status.busy": "2021-12-19T15:50:05.644273Z",
     "iopub.status.idle": "2021-12-19T15:50:05.649982Z",
     "shell.execute_reply": "2021-12-19T15:50:05.648929Z",
     "shell.execute_reply.started": "2021-12-19T15:50:05.644568Z"
    }
   },
   "outputs": [
    {
     "name": "stdout",
     "output_type": "stream",
     "text": [
      "5670.577588955799\n"
     ]
    }
   ],
   "source": [
    "# Procedemos a calcular la intercepción, el cual indica el grado de inclinación que contendrá nuestra línea.\n",
    "print(regresionLineal.intercept_)"
   ]
  },
  {
   "cell_type": "code",
   "execution_count": 59,
   "metadata": {
    "execution": {
     "iopub.execute_input": "2021-12-19T15:46:48.342732Z",
     "iopub.status.busy": "2021-12-19T15:46:48.342440Z",
     "iopub.status.idle": "2021-12-19T15:46:48.354589Z",
     "shell.execute_reply": "2021-12-19T15:46:48.353545Z",
     "shell.execute_reply.started": "2021-12-19T15:46:48.342701Z"
    }
   },
   "outputs": [
    {
     "data": {
      "text/html": [
       "<div>\n",
       "<style scoped>\n",
       "    .dataframe tbody tr th:only-of-type {\n",
       "        vertical-align: middle;\n",
       "    }\n",
       "\n",
       "    .dataframe tbody tr th {\n",
       "        vertical-align: top;\n",
       "    }\n",
       "\n",
       "    .dataframe thead th {\n",
       "        text-align: right;\n",
       "    }\n",
       "</style>\n",
       "<table border=\"1\" class=\"dataframe\">\n",
       "  <thead>\n",
       "    <tr style=\"text-align: right;\">\n",
       "      <th></th>\n",
       "      <th>Coefficient</th>\n",
       "    </tr>\n",
       "  </thead>\n",
       "  <tbody>\n",
       "    <tr>\n",
       "      <th>Habitaciones</th>\n",
       "      <td>-285.636785</td>\n",
       "    </tr>\n",
       "    <tr>\n",
       "      <th>Baños</th>\n",
       "      <td>86.432933</td>\n",
       "    </tr>\n",
       "    <tr>\n",
       "      <th>Planta</th>\n",
       "      <td>335.605626</td>\n",
       "    </tr>\n",
       "    <tr>\n",
       "      <th>Metros Cuadrados</th>\n",
       "      <td>3.237708</td>\n",
       "    </tr>\n",
       "    <tr>\n",
       "      <th>Ascensor</th>\n",
       "      <td>14.567498</td>\n",
       "    </tr>\n",
       "    <tr>\n",
       "      <th>Balcon</th>\n",
       "      <td>16.855719</td>\n",
       "    </tr>\n",
       "    <tr>\n",
       "      <th>Terraza</th>\n",
       "      <td>-33.403840</td>\n",
       "    </tr>\n",
       "    <tr>\n",
       "      <th>Calefaccion</th>\n",
       "      <td>-10.886894</td>\n",
       "    </tr>\n",
       "    <tr>\n",
       "      <th>Aire Acondicionado</th>\n",
       "      <td>-60.646532</td>\n",
       "    </tr>\n",
       "    <tr>\n",
       "      <th>Piscina</th>\n",
       "      <td>-292.525223</td>\n",
       "    </tr>\n",
       "    <tr>\n",
       "      <th>Extras</th>\n",
       "      <td>-47.936157</td>\n",
       "    </tr>\n",
       "    <tr>\n",
       "      <th>Parking</th>\n",
       "      <td>655.674196</td>\n",
       "    </tr>\n",
       "  </tbody>\n",
       "</table>\n",
       "</div>"
      ],
      "text/plain": [
       "                    Coefficient\n",
       "Habitaciones        -285.636785\n",
       "Baños                 86.432933\n",
       "Planta               335.605626\n",
       "Metros Cuadrados       3.237708\n",
       "Ascensor              14.567498\n",
       "Balcon                16.855719\n",
       "Terraza              -33.403840\n",
       "Calefaccion          -10.886894\n",
       "Aire Acondicionado   -60.646532\n",
       "Piscina             -292.525223\n",
       "Extras               -47.936157\n",
       "Parking              655.674196"
      ]
     },
     "execution_count": 59,
     "metadata": {},
     "output_type": "execute_result"
    }
   ],
   "source": [
    "# Procedemos a calcular el coeficiente que nos indicará cuanto aumentara de precio por cada unidad.\n",
    "coeff_df = pd.DataFrame(regresionLineal.coef_, X.columns, columns=['Coefficient'])\n",
    "coeff_df"
   ]
  },
  {
   "cell_type": "code",
   "execution_count": 52,
   "metadata": {
    "execution": {
     "iopub.execute_input": "2021-12-19T15:46:54.231401Z",
     "iopub.status.busy": "2021-12-19T15:46:54.231106Z",
     "iopub.status.idle": "2021-12-19T15:46:54.263278Z",
     "shell.execute_reply": "2021-12-19T15:46:54.261771Z",
     "shell.execute_reply.started": "2021-12-19T15:46:54.231370Z"
    }
   },
   "outputs": [
    {
     "data": {
      "text/plain": [
       "<matplotlib.collections.PathCollection at 0x7fde85271c50>"
      ]
     },
     "execution_count": 52,
     "metadata": {},
     "output_type": "execute_result"
    },
    {
     "data": {
      "image/png": "[encoded data removed]",
      "text/plain": [
       "<Figure size 432x288 with 1 Axes>"
      ]
     },
     "metadata": {
      "needs_background": "light"
     },
     "output_type": "display_data"
    }
   ],
   "source": [
    "\"\"\"\n",
    "Graficamos los datos junto con el modelo. Debemos recordar que debemos de reducir el máximo el error.\n",
    "Esto se realizara juntando lo máximo posible el punto a la línea roja todos los datos fuera de la línea están en error\n",
    "\"\"\"\n",
    "prediccion = regresionLineal.predict(X_test)\n",
    "plt.plot(prediccion, Y_pred,color='red',linewidth=3)\n",
    "plt.scatter(y_test, prediccion)\n"
   ]
  },
  {
   "cell_type": "code",
   "execution_count": 61,
   "metadata": {
    "execution": {
     "iopub.execute_input": "2021-12-19T14:32:43.434511Z",
     "iopub.status.busy": "2021-12-19T14:32:43.434209Z",
     "iopub.status.idle": "2021-12-19T14:32:43.672100Z",
     "shell.execute_reply": "2021-12-19T14:32:43.671195Z",
     "shell.execute_reply.started": "2021-12-19T14:32:43.434466Z"
    }
   },
   "outputs": [
    {
     "data": {
      "image/png": "[encoded data removed]",
      "text/plain": [
       "<Figure size 432x288 with 1 Axes>"
      ]
     },
     "metadata": {
      "needs_background": "light"
     },
     "output_type": "display_data"
    }
   ],
   "source": [
    "sns.histplot((y_test - prediccion), bins='auto');"
   ]
  },
  {
   "cell_type": "markdown",
   "metadata": {},
   "source": [
    "# Vamos a comparar nuestro modelo de regresión lineal con el random forest, de modo que vamos a calcular lo siguientes campos.\n",
    "\n",
    "* El error absoluto medio (MAE) es la media del valor absoluto de los errores\n",
    "* El error cuadrático medio (MSE) es la media de los errores cuadráticos.\n",
    "* El error cuadrático medio (RMSE) es la raíz cuadrada de la media de los errores cuadráticos."
   ]
  },
  {
   "cell_type": "code",
   "execution_count": 62,
   "metadata": {
    "execution": {
     "iopub.execute_input": "2021-12-19T14:49:55.366781Z",
     "iopub.status.busy": "2021-12-19T14:49:55.366491Z",
     "iopub.status.idle": "2021-12-19T14:49:55.398847Z",
     "shell.execute_reply": "2021-12-19T14:49:55.398062Z",
     "shell.execute_reply.started": "2021-12-19T14:49:55.366747Z"
    }
   },
   "outputs": [
    {
     "data": {
      "text/html": [
       "<div>\n",
       "<style scoped>\n",
       "    .dataframe tbody tr th:only-of-type {\n",
       "        vertical-align: middle;\n",
       "    }\n",
       "\n",
       "    .dataframe tbody tr th {\n",
       "        vertical-align: top;\n",
       "    }\n",
       "\n",
       "    .dataframe thead th {\n",
       "        text-align: right;\n",
       "    }\n",
       "</style>\n",
       "<table border=\"1\" class=\"dataframe\">\n",
       "  <thead>\n",
       "    <tr style=\"text-align: right;\">\n",
       "      <th></th>\n",
       "      <th>Modelo</th>\n",
       "      <th>MAE</th>\n",
       "      <th>MSE</th>\n",
       "      <th>RMSE</th>\n",
       "      <th>R2 Square</th>\n",
       "    </tr>\n",
       "  </thead>\n",
       "  <tbody>\n",
       "    <tr>\n",
       "      <th>0</th>\n",
       "      <td>Linear Regression</td>\n",
       "      <td>2358.764899</td>\n",
       "      <td>7.422138e+06</td>\n",
       "      <td>2724.360177</td>\n",
       "      <td>0.040573</td>\n",
       "    </tr>\n",
       "  </tbody>\n",
       "</table>\n",
       "</div>"
      ],
      "text/plain": [
       "              Modelo          MAE           MSE         RMSE  R2 Square\n",
       "0  Linear Regression  2358.764899  7.422138e+06  2724.360177   0.040573"
      ]
     },
     "execution_count": 62,
     "metadata": {},
     "output_type": "execute_result"
    }
   ],
   "source": [
    "# Primero calculamos el algoritmo de Regresión Lineal\n",
    "from sklearn import metrics\n",
    "\n",
    "def evaluarErrores(true, predicted):\n",
    "    mae = metrics.mean_absolute_error(true, predicted)\n",
    "    mse = metrics.mean_squared_error(true, predicted)\n",
    "    rmse = np.sqrt(metrics.mean_squared_error(true, predicted))\n",
    "    r2_square = metrics.r2_score(true, predicted)\n",
    "    return mae, mse, rmse, r2_square\n",
    "\n",
    "regresionLineal = LinearRegression()\n",
    "regresionLineal.fit(X_train, y_train)\n",
    "\n",
    "testPrediccion = regresionLineal.predict(X_test)\n",
    "entrenamientoPrediccion = regresionLineal.predict(X_train)\n",
    "\n",
    "resultadoRegresionLineal = pd.DataFrame(data=[[\"Linear Regression\", *evaluarErrores(y_test, testPrediccion)]], \n",
    "                          columns=['Modelo', 'MAE', 'MSE', 'RMSE', 'R2 Square'])\n",
    "resultadoRegresionLineal\n"
   ]
  },
  {
   "cell_type": "code",
   "execution_count": 41,
   "metadata": {
    "execution": {
     "iopub.execute_input": "2021-12-19T14:50:14.627165Z",
     "iopub.status.busy": "2021-12-19T14:50:14.626876Z",
     "iopub.status.idle": "2021-12-19T14:50:14.668508Z",
     "shell.execute_reply": "2021-12-19T14:50:14.667887Z",
     "shell.execute_reply.started": "2021-12-19T14:50:14.627131Z"
    }
   },
   "outputs": [
    {
     "data": {
      "text/html": [
       "<div>\n",
       "<style scoped>\n",
       "    .dataframe tbody tr th:only-of-type {\n",
       "        vertical-align: middle;\n",
       "    }\n",
       "\n",
       "    .dataframe tbody tr th {\n",
       "        vertical-align: top;\n",
       "    }\n",
       "\n",
       "    .dataframe thead th {\n",
       "        text-align: right;\n",
       "    }\n",
       "</style>\n",
       "<table border=\"1\" class=\"dataframe\">\n",
       "  <thead>\n",
       "    <tr style=\"text-align: right;\">\n",
       "      <th></th>\n",
       "      <th>Modelo</th>\n",
       "      <th>MAE</th>\n",
       "      <th>MSE</th>\n",
       "      <th>RMSE</th>\n",
       "      <th>R2 Square</th>\n",
       "    </tr>\n",
       "  </thead>\n",
       "  <tbody>\n",
       "    <tr>\n",
       "      <th>0</th>\n",
       "      <td>Linear Regression</td>\n",
       "      <td>2358.764899</td>\n",
       "      <td>7.422138e+06</td>\n",
       "      <td>2724.360177</td>\n",
       "      <td>0.040573</td>\n",
       "    </tr>\n",
       "    <tr>\n",
       "      <th>1</th>\n",
       "      <td>Random Forest</td>\n",
       "      <td>2871.441237</td>\n",
       "      <td>1.324701e+07</td>\n",
       "      <td>3639.644364</td>\n",
       "      <td>-0.712383</td>\n",
       "    </tr>\n",
       "  </tbody>\n",
       "</table>\n",
       "</div>"
      ],
      "text/plain": [
       "              Modelo          MAE           MSE         RMSE  R2 Square\n",
       "0  Linear Regression  2358.764899  7.422138e+06  2724.360177   0.040573\n",
       "1      Random Forest  2871.441237  1.324701e+07  3639.644364  -0.712383"
      ]
     },
     "execution_count": 41,
     "metadata": {},
     "output_type": "execute_result"
    }
   ],
   "source": [
    "\n",
    "from sklearn.ensemble import RandomForestRegressor\n",
    "\n",
    "randomForest = RandomForestRegressor(n_estimators=1)\n",
    "randomForest.fit(X_train, y_train)\n",
    "\n",
    "testPrediccion = randomForest.predict(X_test)\n",
    "entrenamientoPrediccion = randomForest.predict(X_train)\n",
    "\n",
    "resultadoRandomForest = pd.DataFrame(data=[[\"Random Forest\", *evaluarErrores(y_test, testPrediccion)]], \n",
    "                          columns=['Modelo', 'MAE', 'MSE', 'RMSE', 'R2 Square'])\n",
    "resultados = resultadoRegresionLineal.append(resultadoRandomForest, ignore_index=True)\n",
    "resultados"
   ]
  },
  {
   "cell_type": "code",
   "execution_count": 42,
   "metadata": {
    "execution": {
     "iopub.execute_input": "2021-12-19T14:44:07.141347Z",
     "iopub.status.busy": "2021-12-19T14:44:07.140358Z",
     "iopub.status.idle": "2021-12-19T14:44:07.325171Z",
     "shell.execute_reply": "2021-12-19T14:44:07.324344Z",
     "shell.execute_reply.started": "2021-12-19T14:44:07.141300Z"
    }
   },
   "outputs": [
    {
     "name": "stdout",
     "output_type": "stream",
     "text": [
      "Comparacion entre los 2 modelos.........\n"
     ]
    },
    {
     "data": {
      "text/plain": [
       "<AxesSubplot:ylabel='Modelo'>"
      ]
     },
     "execution_count": 42,
     "metadata": {},
     "output_type": "execute_result"
    },
    {
     "data": {
      "image/png": "[encoded data removed]",
      "text/plain": [
       "<Figure size 1224x144 with 1 Axes>"
      ]
     },
     "metadata": {
      "needs_background": "light"
     },
     "output_type": "display_data"
    }
   ],
   "source": [
    "# Vamos a comparar los modelos empleados, tanto la regresión lineal como el Random Forest.\n",
    "\n",
    "print('Comparacion entre los 2 modelos.........')\n",
    "resultados.set_index('Modelo', inplace=True)\n",
    "resultados['RMSE'].plot(kind='barh', figsize=(17, 2))"
   ]
  }
 ],
 "metadata": {
  "kernelspec": {
   "display_name": "Python 3 (ipykernel)",
   "language": "python",
   "name": "python3"
  },
  "language_info": {
   "codemirror_mode": {
    "name": "ipython",
    "version": 3
   },
   "file_extension": ".py",
   "mimetype": "text/x-python",
   "name": "python",
   "nbconvert_exporter": "python",
   "pygments_lexer": "ipython3",
   "version": "3.7.11"
  }
 },
 "nbformat": 4,
 "nbformat_minor": 4
}
