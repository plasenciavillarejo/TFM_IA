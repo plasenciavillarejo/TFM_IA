{
 "cells": [
  {
   "cell_type": "markdown",
   "id": "c775bfe0",
   "metadata": {},
   "source": [
    "# LIBRERÍAS A UTILIZAR "
   ]
  },
  {
   "cell_type": "code",
   "execution_count": 1,
   "id": "240d7be0",
   "metadata": {},
   "outputs": [],
   "source": [
    "import pandas as pd\n",
    "import numpy as np\n",
    "from sklearn import  linear_model\n",
    "from pandas.plotting import scatter_matrix\n",
    "import matplotlib.pyplot as plt\n",
    "import seaborn as sns\n",
    "\n",
    "# Importamos el dataset.\n",
    "viviendas = pd.read_csv('Datos_Viviendas.csv',header=0 ,sep=';')"
   ]
  },
  {
   "cell_type": "code",
   "execution_count": 2,
   "id": "b0cdd2b2",
   "metadata": {},
   "outputs": [
    {
     "data": {
      "text/html": [
       "<div>\n",
       "<style scoped>\n",
       "    .dataframe tbody tr th:only-of-type {\n",
       "        vertical-align: middle;\n",
       "    }\n",
       "\n",
       "    .dataframe tbody tr th {\n",
       "        vertical-align: top;\n",
       "    }\n",
       "\n",
       "    .dataframe thead th {\n",
       "        text-align: right;\n",
       "    }\n",
       "</style>\n",
       "<table border=\"1\" class=\"dataframe\">\n",
       "  <thead>\n",
       "    <tr style=\"text-align: right;\">\n",
       "      <th></th>\n",
       "      <th>Ubicación</th>\n",
       "      <th>Precio</th>\n",
       "      <th>Habitaciones</th>\n",
       "      <th>Baños</th>\n",
       "      <th>Planta</th>\n",
       "      <th>Metros Cuadrados</th>\n",
       "      <th>Ascensor</th>\n",
       "      <th>Balcon</th>\n",
       "      <th>Terraza</th>\n",
       "      <th>Calefaccion</th>\n",
       "      <th>Aire Acondicionado</th>\n",
       "      <th>Piscina</th>\n",
       "      <th>Extras</th>\n",
       "      <th>Parking</th>\n",
       "    </tr>\n",
       "  </thead>\n",
       "  <tbody>\n",
       "    <tr>\n",
       "      <th>0</th>\n",
       "      <td>Piso en Calle Mayor, 55</td>\n",
       "      <td>145000</td>\n",
       "      <td>4</td>\n",
       "      <td>2</td>\n",
       "      <td>5</td>\n",
       "      <td>145.0</td>\n",
       "      <td>Ascensor</td>\n",
       "      <td>Balcón</td>\n",
       "      <td>Terraza</td>\n",
       "      <td>Calefacción</td>\n",
       "      <td>Aire acondicionado</td>\n",
       "      <td>NaN</td>\n",
       "      <td>5</td>\n",
       "      <td>Parking</td>\n",
       "    </tr>\n",
       "    <tr>\n",
       "      <th>1</th>\n",
       "      <td>Piso en Centro</td>\n",
       "      <td>399000</td>\n",
       "      <td>3</td>\n",
       "      <td>2</td>\n",
       "      <td>2</td>\n",
       "      <td>125.0</td>\n",
       "      <td>Ascensor</td>\n",
       "      <td>Balcon</td>\n",
       "      <td>NaN</td>\n",
       "      <td>Calefaccion</td>\n",
       "      <td>Aire acondicionado</td>\n",
       "      <td>NaN</td>\n",
       "      <td>6</td>\n",
       "      <td>Parking</td>\n",
       "    </tr>\n",
       "    <tr>\n",
       "      <th>2</th>\n",
       "      <td>Piso en Centro</td>\n",
       "      <td>395000</td>\n",
       "      <td>4</td>\n",
       "      <td>2</td>\n",
       "      <td>2</td>\n",
       "      <td>172.0</td>\n",
       "      <td>Ascensor</td>\n",
       "      <td>NaN</td>\n",
       "      <td>Terraza</td>\n",
       "      <td>Calefaccion</td>\n",
       "      <td>Aire acondicionado</td>\n",
       "      <td>Piscina</td>\n",
       "      <td>10</td>\n",
       "      <td>Parking</td>\n",
       "    </tr>\n",
       "    <tr>\n",
       "      <th>3</th>\n",
       "      <td>Piso en Centro</td>\n",
       "      <td>189500</td>\n",
       "      <td>3</td>\n",
       "      <td>2</td>\n",
       "      <td>1</td>\n",
       "      <td>104.0</td>\n",
       "      <td>Ascensor</td>\n",
       "      <td>Balcon</td>\n",
       "      <td>NaN</td>\n",
       "      <td>Calefaccion</td>\n",
       "      <td>Aire acondicionado</td>\n",
       "      <td>NaN</td>\n",
       "      <td>1</td>\n",
       "      <td>Parking</td>\n",
       "    </tr>\n",
       "    <tr>\n",
       "      <th>4</th>\n",
       "      <td>Piso en Centro</td>\n",
       "      <td>370000</td>\n",
       "      <td>5</td>\n",
       "      <td>2</td>\n",
       "      <td>3</td>\n",
       "      <td>103.0</td>\n",
       "      <td>Ascensor</td>\n",
       "      <td>NaN</td>\n",
       "      <td>Terraza</td>\n",
       "      <td>Calefaccion</td>\n",
       "      <td>Aire acondicionado</td>\n",
       "      <td>NaN</td>\n",
       "      <td>3</td>\n",
       "      <td>Parking</td>\n",
       "    </tr>\n",
       "    <tr>\n",
       "      <th>5</th>\n",
       "      <td>Piso en Centro</td>\n",
       "      <td>178000</td>\n",
       "      <td>2</td>\n",
       "      <td>2</td>\n",
       "      <td>4</td>\n",
       "      <td>130.0</td>\n",
       "      <td>Ascensor</td>\n",
       "      <td>Balcon</td>\n",
       "      <td>NaN</td>\n",
       "      <td>Calefaccion</td>\n",
       "      <td>Aire acondicionado</td>\n",
       "      <td>Piscina</td>\n",
       "      <td>5</td>\n",
       "      <td>Parking</td>\n",
       "    </tr>\n",
       "    <tr>\n",
       "      <th>6</th>\n",
       "      <td>Piso en Centro</td>\n",
       "      <td>385000</td>\n",
       "      <td>4</td>\n",
       "      <td>2</td>\n",
       "      <td>1</td>\n",
       "      <td>188.0</td>\n",
       "      <td>Ascensor</td>\n",
       "      <td>Balcon</td>\n",
       "      <td>NaN</td>\n",
       "      <td>Calefaccion</td>\n",
       "      <td>Aire acondicionado</td>\n",
       "      <td>Piscina</td>\n",
       "      <td>3</td>\n",
       "      <td>Parking</td>\n",
       "    </tr>\n",
       "    <tr>\n",
       "      <th>7</th>\n",
       "      <td>Piso en Norte</td>\n",
       "      <td>335000</td>\n",
       "      <td>3</td>\n",
       "      <td>2</td>\n",
       "      <td>7</td>\n",
       "      <td>180.0</td>\n",
       "      <td>Ascensor</td>\n",
       "      <td>Balcon</td>\n",
       "      <td>NaN</td>\n",
       "      <td>Calefaccion</td>\n",
       "      <td>Aire acondicionado</td>\n",
       "      <td>Piscina</td>\n",
       "      <td>5</td>\n",
       "      <td>Parking</td>\n",
       "    </tr>\n",
       "    <tr>\n",
       "      <th>8</th>\n",
       "      <td>Piso en Centro</td>\n",
       "      <td>250000</td>\n",
       "      <td>4</td>\n",
       "      <td>1</td>\n",
       "      <td>2</td>\n",
       "      <td>106.0</td>\n",
       "      <td>Ascensor</td>\n",
       "      <td>Balcon</td>\n",
       "      <td>NaN</td>\n",
       "      <td>Calefaccion</td>\n",
       "      <td>Aire acondicionado</td>\n",
       "      <td>NaN</td>\n",
       "      <td>5</td>\n",
       "      <td>Parking</td>\n",
       "    </tr>\n",
       "    <tr>\n",
       "      <th>9</th>\n",
       "      <td>Piso en Sur</td>\n",
       "      <td>119000</td>\n",
       "      <td>5</td>\n",
       "      <td>2</td>\n",
       "      <td>1</td>\n",
       "      <td>146.0</td>\n",
       "      <td>Ascensor</td>\n",
       "      <td>NaN</td>\n",
       "      <td>Terraza</td>\n",
       "      <td>Calefaccion</td>\n",
       "      <td>Aire acondicionado</td>\n",
       "      <td>NaN</td>\n",
       "      <td>6</td>\n",
       "      <td>Parking</td>\n",
       "    </tr>\n",
       "  </tbody>\n",
       "</table>\n",
       "</div>"
      ],
      "text/plain": [
       "                 Ubicación  Precio  Habitaciones  Baños  Planta  \\\n",
       "0  Piso en Calle Mayor, 55  145000             4      2       5   \n",
       "1           Piso en Centro  399000             3      2       2   \n",
       "2           Piso en Centro  395000             4      2       2   \n",
       "3           Piso en Centro  189500             3      2       1   \n",
       "4           Piso en Centro  370000             5      2       3   \n",
       "5           Piso en Centro  178000             2      2       4   \n",
       "6           Piso en Centro  385000             4      2       1   \n",
       "7            Piso en Norte  335000             3      2       7   \n",
       "8           Piso en Centro  250000             4      1       2   \n",
       "9              Piso en Sur  119000             5      2       1   \n",
       "\n",
       "   Metros Cuadrados  Ascensor  Balcon  Terraza   Calefaccion  \\\n",
       "0             145.0  Ascensor  Balcón  Terraza   Calefacción   \n",
       "1             125.0  Ascensor  Balcon      NaN  Calefaccion    \n",
       "2             172.0  Ascensor     NaN  Terraza  Calefaccion    \n",
       "3             104.0  Ascensor  Balcon      NaN  Calefaccion    \n",
       "4             103.0  Ascensor     NaN  Terraza  Calefaccion    \n",
       "5             130.0  Ascensor  Balcon      NaN  Calefaccion    \n",
       "6             188.0  Ascensor  Balcon      NaN  Calefaccion    \n",
       "7             180.0  Ascensor  Balcon      NaN  Calefaccion    \n",
       "8             106.0  Ascensor  Balcon      NaN  Calefaccion    \n",
       "9             146.0  Ascensor     NaN  Terraza  Calefaccion    \n",
       "\n",
       "   Aire Acondicionado  Piscina  Extras  Parking  \n",
       "0  Aire acondicionado      NaN       5  Parking  \n",
       "1  Aire acondicionado      NaN       6  Parking  \n",
       "2  Aire acondicionado  Piscina      10  Parking  \n",
       "3  Aire acondicionado      NaN       1  Parking  \n",
       "4  Aire acondicionado      NaN       3  Parking  \n",
       "5  Aire acondicionado  Piscina       5  Parking  \n",
       "6  Aire acondicionado  Piscina       3  Parking  \n",
       "7  Aire acondicionado  Piscina       5  Parking  \n",
       "8  Aire acondicionado      NaN       5  Parking  \n",
       "9  Aire acondicionado      NaN       6  Parking  "
      ]
     },
     "execution_count": 2,
     "metadata": {},
     "output_type": "execute_result"
    }
   ],
   "source": [
    "# Vamos a consutlar los primeros 10 datos del dataset.\n",
    "# Comprar, Mantenimiento, Puertas, Persona, maletero ,seguridad ,clase\n",
    "viviendas.head(10)"
   ]
  },
  {
   "cell_type": "code",
   "execution_count": 3,
   "id": "67ab4f32",
   "metadata": {},
   "outputs": [
    {
     "name": "stdout",
     "output_type": "stream",
     "text": [
      "Ubicación              object\n",
      "Precio                  int64\n",
      "Habitaciones            int64\n",
      "Baños                   int64\n",
      "Planta                  int64\n",
      "Metros Cuadrados      float64\n",
      "Ascensor               object\n",
      "Balcon                 object\n",
      "Terraza                object\n",
      "Calefaccion            object\n",
      "Aire Acondicionado     object\n",
      "Piscina                object\n",
      "Extras                  int64\n",
      "Parking                object\n",
      "dtype: object\n"
     ]
    }
   ],
   "source": [
    "# Procedemos a validar que tipo de campos contiene nuestro dataset.\n",
    "print(viviendas.dtypes)"
   ]
  },
  {
   "cell_type": "code",
   "execution_count": 48,
   "id": "5275c018",
   "metadata": {},
   "outputs": [
    {
     "name": "stdout",
     "output_type": "stream",
     "text": [
      "(11345, 14)\n",
      "<class 'pandas.core.frame.DataFrame'>\n",
      "RangeIndex: 11345 entries, 0 to 11344\n",
      "Data columns (total 14 columns):\n",
      " #   Column              Non-Null Count  Dtype  \n",
      "---  ------              --------------  -----  \n",
      " 0   Ubicación           11345 non-null  object \n",
      " 1   Precio              11345 non-null  int64  \n",
      " 2   Habitaciones        11345 non-null  int64  \n",
      " 3   Baños               11345 non-null  int64  \n",
      " 4   Planta              11345 non-null  int64  \n",
      " 5   Metros Cuadrados    11345 non-null  float64\n",
      " 6   Ascensor            9111 non-null   object \n",
      " 7   Balcon              6907 non-null   object \n",
      " 8   Terraza             6023 non-null   object \n",
      " 9   Calefaccion         6537 non-null   object \n",
      " 10  Aire Acondicionado  9475 non-null   object \n",
      " 11  Piscina             2218 non-null   object \n",
      " 12  Extras              11345 non-null  int64  \n",
      " 13  Parking             11195 non-null  object \n",
      "dtypes: float64(1), int64(5), object(8)\n",
      "memory usage: 1.2+ MB\n",
      "None\n"
     ]
    }
   ],
   "source": [
    "# Ahora voy a visualizar cuantas filas y columnas cuenta mi dataset, esto nos hace una idea para ver si el dataset el \n",
    "# cual vamos a analizar nos sirve o en su caso cambiarlo por otro.\n",
    "print(viviendas.shape)\n",
    "\n",
    "# Vemos que contamos con 1750 registros con un total de 7 columnas.\n",
    "# Visualizamos el tipo de dato que contien la columnas.\n",
    "print(viviendas.info())"
   ]
  },
  {
   "cell_type": "code",
   "execution_count": 49,
   "id": "a76f760b",
   "metadata": {},
   "outputs": [
    {
     "name": "stdout",
     "output_type": "stream",
     "text": [
      "Index(['Ubicación', 'Precio', 'Habitaciones', 'Baños', 'Planta',\n",
      "       'Metros Cuadrados', 'Ascensor', 'Balcon', 'Terraza', 'Calefaccion',\n",
      "       'Aire Acondicionado', 'Piscina', 'Extras', 'Parking'],\n",
      "      dtype='object')\n",
      "\n"
     ]
    }
   ],
   "source": [
    "# Visualizamos los valores indexados de nuestro dataset junto al tipo de dato.\n",
    "print(viviendas.keys())\n",
    "print()"
   ]
  },
  {
   "cell_type": "code",
   "execution_count": 50,
   "id": "e03f1625",
   "metadata": {},
   "outputs": [
    {
     "data": {
      "text/html": [
       "<div>\n",
       "<style scoped>\n",
       "    .dataframe tbody tr th:only-of-type {\n",
       "        vertical-align: middle;\n",
       "    }\n",
       "\n",
       "    .dataframe tbody tr th {\n",
       "        vertical-align: top;\n",
       "    }\n",
       "\n",
       "    .dataframe thead th {\n",
       "        text-align: right;\n",
       "    }\n",
       "</style>\n",
       "<table border=\"1\" class=\"dataframe\">\n",
       "  <thead>\n",
       "    <tr style=\"text-align: right;\">\n",
       "      <th></th>\n",
       "      <th>Precio</th>\n",
       "      <th>Habitaciones</th>\n",
       "      <th>Baños</th>\n",
       "      <th>Planta</th>\n",
       "      <th>Metros Cuadrados</th>\n",
       "      <th>Extras</th>\n",
       "    </tr>\n",
       "  </thead>\n",
       "  <tbody>\n",
       "    <tr>\n",
       "      <th>count</th>\n",
       "      <td>1.134500e+04</td>\n",
       "      <td>11345.000000</td>\n",
       "      <td>11345.000000</td>\n",
       "      <td>11345.000000</td>\n",
       "      <td>11345.000000</td>\n",
       "      <td>11345.000000</td>\n",
       "    </tr>\n",
       "    <tr>\n",
       "      <th>mean</th>\n",
       "      <td>1.426022e+05</td>\n",
       "      <td>14.121287</td>\n",
       "      <td>1.824592</td>\n",
       "      <td>2.522874</td>\n",
       "      <td>125.629623</td>\n",
       "      <td>6.143235</td>\n",
       "    </tr>\n",
       "    <tr>\n",
       "      <th>std</th>\n",
       "      <td>9.511684e+04</td>\n",
       "      <td>1264.163926</td>\n",
       "      <td>0.762700</td>\n",
       "      <td>1.184211</td>\n",
       "      <td>41.219656</td>\n",
       "      <td>5.585155</td>\n",
       "    </tr>\n",
       "    <tr>\n",
       "      <th>min</th>\n",
       "      <td>2.100000e+04</td>\n",
       "      <td>1.000000</td>\n",
       "      <td>1.000000</td>\n",
       "      <td>0.000000</td>\n",
       "      <td>1.029000</td>\n",
       "      <td>0.000000</td>\n",
       "    </tr>\n",
       "    <tr>\n",
       "      <th>25%</th>\n",
       "      <td>1.039100e+05</td>\n",
       "      <td>2.000000</td>\n",
       "      <td>1.000000</td>\n",
       "      <td>2.000000</td>\n",
       "      <td>101.000000</td>\n",
       "      <td>3.000000</td>\n",
       "    </tr>\n",
       "    <tr>\n",
       "      <th>50%</th>\n",
       "      <td>1.258420e+05</td>\n",
       "      <td>2.000000</td>\n",
       "      <td>2.000000</td>\n",
       "      <td>3.000000</td>\n",
       "      <td>122.000000</td>\n",
       "      <td>5.000000</td>\n",
       "    </tr>\n",
       "    <tr>\n",
       "      <th>75%</th>\n",
       "      <td>1.498640e+05</td>\n",
       "      <td>3.000000</td>\n",
       "      <td>2.000000</td>\n",
       "      <td>3.000000</td>\n",
       "      <td>144.000000</td>\n",
       "      <td>9.000000</td>\n",
       "    </tr>\n",
       "    <tr>\n",
       "      <th>max</th>\n",
       "      <td>3.950000e+06</td>\n",
       "      <td>134652.000000</td>\n",
       "      <td>9.000000</td>\n",
       "      <td>9.000000</td>\n",
       "      <td>900.000000</td>\n",
       "      <td>54.000000</td>\n",
       "    </tr>\n",
       "  </tbody>\n",
       "</table>\n",
       "</div>"
      ],
      "text/plain": [
       "             Precio   Habitaciones         Baños        Planta  \\\n",
       "count  1.134500e+04   11345.000000  11345.000000  11345.000000   \n",
       "mean   1.426022e+05      14.121287      1.824592      2.522874   \n",
       "std    9.511684e+04    1264.163926      0.762700      1.184211   \n",
       "min    2.100000e+04       1.000000      1.000000      0.000000   \n",
       "25%    1.039100e+05       2.000000      1.000000      2.000000   \n",
       "50%    1.258420e+05       2.000000      2.000000      3.000000   \n",
       "75%    1.498640e+05       3.000000      2.000000      3.000000   \n",
       "max    3.950000e+06  134652.000000      9.000000      9.000000   \n",
       "\n",
       "       Metros Cuadrados        Extras  \n",
       "count      11345.000000  11345.000000  \n",
       "mean         125.629623      6.143235  \n",
       "std           41.219656      5.585155  \n",
       "min            1.029000      0.000000  \n",
       "25%          101.000000      3.000000  \n",
       "50%          122.000000      5.000000  \n",
       "75%          144.000000      9.000000  \n",
       "max          900.000000     54.000000  "
      ]
     },
     "execution_count": 50,
     "metadata": {},
     "output_type": "execute_result"
    }
   ],
   "source": [
    "# Visualizamos los datos estádisticos del dataset.\n",
    "viviendas.describe()"
   ]
  },
  {
   "cell_type": "code",
   "execution_count": 51,
   "id": "ed686498",
   "metadata": {},
   "outputs": [
    {
     "name": "stdout",
     "output_type": "stream",
     "text": [
      "Valores nulos en <Ubicación>: 0\n",
      "Valores nulos en <Precio>: 0\n",
      "Valores nulos en <Habitaciones>: 0\n",
      "Valores nulos en <Baños>: 0\n",
      "Valores nulos en <Planta>: 0\n",
      "Valores nulos en <Metros Cuadrados>: 0\n",
      "Valores nulos en <Ascensor>: 2234\n",
      "Valores nulos en <Balcon>: 4438\n",
      "Valores nulos en <Terraza>: 5322\n",
      "Valores nulos en <Calefaccion>: 4808\n",
      "Valores nulos en <Aire Acondicionado>: 1870\n",
      "Valores nulos en <Piscina>: 9127\n",
      "Valores nulos en <Extras>: 0\n",
      "Valores nulos en <Parking>: 150\n"
     ]
    }
   ],
   "source": [
    "# Antes de hacer nada en mi dataset,voy a visualizar con cuantos campos vacíos me voy a encontrar.\n",
    "columnas = viviendas.columns.tolist()\n",
    "\n",
    "for column in columnas:\n",
    "    print(\"Valores nulos en <{0}>: {1}\".format(column, viviendas[column].isnull().sum()))"
   ]
  },
  {
   "cell_type": "code",
   "execution_count": 4,
   "id": "d9494083",
   "metadata": {},
   "outputs": [
    {
     "name": "stdout",
     "output_type": "stream",
     "text": [
      "Index(['Ubicación', 'Precio', 'Habitaciones', 'Baños', 'Planta',\n",
      "       'Metros Cuadrados', 'Ascensor', 'Balcon', 'Terraza', 'Calefaccion',\n",
      "       'Aire Acondicionado', 'Piscina', 'Extras', 'Parking'],\n",
      "      dtype='object')\n"
     ]
    }
   ],
   "source": [
    "from sklearn import preprocessing\n",
    "\n",
    "# Vamos a codificar las variables categoricas en valores númericos. De otro modo no podremos entrenar el modelo\n",
    "transfor_datos = preprocessing.LabelEncoder()\n",
    "viviendas = viviendas.apply(transfor_datos.fit_transform)\n",
    "\n",
    "print(viviendas.keys())"
   ]
  },
  {
   "cell_type": "code",
   "execution_count": 5,
   "id": "f9dc5425",
   "metadata": {},
   "outputs": [
    {
     "name": "stdout",
     "output_type": "stream",
     "text": [
      "Ubicación\n",
      "1516    997\n",
      "726     984\n",
      "723     982\n",
      "1034    974\n",
      "931     951\n",
      "       ... \n",
      "612       1\n",
      "611       1\n",
      "610       1\n",
      "609       1\n",
      "1582      1\n",
      "Length: 1583, dtype: int64\n",
      "La columna  None\n",
      "Precio\n",
      "3908    54\n",
      "3345    44\n",
      "4981    31\n",
      "863     31\n",
      "4474    30\n",
      "        ..\n",
      "3156     1\n",
      "3155     1\n",
      "3154     1\n",
      "3153     1\n",
      "9037     1\n",
      "Length: 9038, dtype: int64\n",
      "La columna  None\n",
      "Habitaciones\n",
      "1     4994\n",
      "2     3621\n",
      "0     2125\n",
      "3      487\n",
      "4       85\n",
      "5       26\n",
      "6        2\n",
      "7        2\n",
      "8        1\n",
      "9        1\n",
      "10       1\n",
      "dtype: int64\n",
      "La columna  None\n",
      "Baños\n",
      "1    4935\n",
      "0    4259\n",
      "2    2077\n",
      "3      53\n",
      "4      11\n",
      "5       5\n",
      "7       4\n",
      "6       1\n",
      "dtype: int64\n",
      "La columna  None\n",
      "Planta\n",
      "3    4080\n",
      "2    2460\n",
      "1    2335\n",
      "4    1974\n",
      "0     291\n",
      "5      92\n",
      "6      46\n",
      "7      46\n",
      "8      16\n",
      "9       5\n",
      "dtype: int64\n",
      "La columna  None\n",
      "Metros Cuadrados\n",
      "56     186\n",
      "86     177\n",
      "66     175\n",
      "62     174\n",
      "76     167\n",
      "      ... \n",
      "178      1\n",
      "176      1\n",
      "171      1\n",
      "170      1\n",
      "244      1\n",
      "Length: 245, dtype: int64\n",
      "La columna  None\n",
      "Ascensor\n",
      "3    7667\n",
      "4    2234\n",
      "2     828\n",
      "1     560\n",
      "0      56\n",
      "dtype: int64\n",
      "La columna  None\n",
      "Balcon\n",
      "5    4438\n",
      "2    2628\n",
      "4    1931\n",
      "3    1438\n",
      "1     630\n",
      "0     280\n",
      "dtype: int64\n",
      "La columna  None\n",
      "Terraza\n",
      "4    5322\n",
      "3    5253\n",
      "1     378\n",
      "0     322\n",
      "2      70\n",
      "dtype: int64\n",
      "La columna  None\n",
      "Calefaccion\n",
      "1    4922\n",
      "4    4808\n",
      "2    1515\n",
      "0      85\n",
      "3      15\n",
      "dtype: int64\n",
      "La columna  None\n",
      "Aire Acondicionado\n",
      "2    8725\n",
      "4    1870\n",
      "1     350\n",
      "3     310\n",
      "0      90\n",
      "dtype: int64\n",
      "La columna  None\n",
      "Piscina\n",
      "6    9127\n",
      "3    1167\n",
      "5     850\n",
      "2     100\n",
      "1      80\n",
      "4      13\n",
      "0       8\n",
      "dtype: int64\n",
      "La columna  None\n",
      "Extras\n",
      "3     1432\n",
      "2     1317\n",
      "5     1213\n",
      "4     1172\n",
      "1     1157\n",
      "6      864\n",
      "10     677\n",
      "8      663\n",
      "7      659\n",
      "11     644\n",
      "12     639\n",
      "9      632\n",
      "15     106\n",
      "18      58\n",
      "16      56\n",
      "14      16\n",
      "13      16\n",
      "17      16\n",
      "0        8\n",
      "dtype: int64\n",
      "La columna  None\n",
      "Parking\n",
      "0    11195\n",
      "1      150\n",
      "dtype: int64\n",
      "La columna  None\n"
     ]
    }
   ],
   "source": [
    "# Vamos a contar el numero de instancias que pertenecen a cada clase\n",
    "\n",
    "for a in viviendas:\n",
    "    v = print(viviendas.value_counts(a))\n",
    "    print('La columna ', v)"
   ]
  },
  {
   "cell_type": "code",
   "execution_count": 54,
   "id": "023a3531",
   "metadata": {},
   "outputs": [
    {
     "data": {
      "text/plain": [
       "array([[<AxesSubplot:title={'center':'Ubicación'}>,\n",
       "        <AxesSubplot:title={'center':'Precio'}>,\n",
       "        <AxesSubplot:title={'center':'Habitaciones'}>,\n",
       "        <AxesSubplot:title={'center':'Baños'}>],\n",
       "       [<AxesSubplot:title={'center':'Planta'}>,\n",
       "        <AxesSubplot:title={'center':'Metros Cuadrados'}>,\n",
       "        <AxesSubplot:title={'center':'Ascensor'}>,\n",
       "        <AxesSubplot:title={'center':'Balcon'}>],\n",
       "       [<AxesSubplot:title={'center':'Terraza'}>,\n",
       "        <AxesSubplot:title={'center':'Calefaccion'}>,\n",
       "        <AxesSubplot:title={'center':'Aire Acondicionado'}>,\n",
       "        <AxesSubplot:title={'center':'Piscina'}>],\n",
       "       [<AxesSubplot:title={'center':'Extras'}>,\n",
       "        <AxesSubplot:title={'center':'Parking'}>, <AxesSubplot:>,\n",
       "        <AxesSubplot:>]], dtype=object)"
      ]
     },
     "execution_count": 54,
     "metadata": {},
     "output_type": "execute_result"
    },
    {
     "data": {
      "image/png": "[encoded data removed]",
      "text/plain": [
       "<Figure size 432x288 with 16 Axes>"
      ]
     },
     "metadata": {
      "needs_background": "light"
     },
     "output_type": "display_data"
    }
   ],
   "source": [
    "# Imprimimos un diagrama de barras con los algoritmos\n",
    "viviendas.hist()"
   ]
  },
  {
   "cell_type": "code",
   "execution_count": 55,
   "id": "c073c145",
   "metadata": {},
   "outputs": [
    {
     "data": {
      "image/png": "[encoded data removed]",
      "text/plain": [
       "<Figure size 432x288 with 14 Axes>"
      ]
     },
     "metadata": {
      "needs_background": "light"
     },
     "output_type": "display_data"
    }
   ],
   "source": [
    "# Vamos a ver el digrama de cajas.\n",
    "viviendas.plot(kind='box', subplots=True, layout=(2,7), sharex=False, sharey=False)\n",
    "plt.show()"
   ]
  },
  {
   "cell_type": "code",
   "execution_count": 13,
   "id": "e272a36c",
   "metadata": {},
   "outputs": [
    {
     "data": {
      "image/png": "[encoded data removed]",
      "text/plain": [
       "<Figure size 432x288 with 196 Axes>"
      ]
     },
     "metadata": {
      "needs_background": "light"
     },
     "output_type": "display_data"
    }
   ],
   "source": [
    "# Visualizamos el diagrama de dispersión.\n",
    "scatter_matrix(viviendas)\n",
    "plt.show()"
   ]
  },
  {
   "cell_type": "code",
   "execution_count": 6,
   "id": "ecc7e4a2",
   "metadata": {},
   "outputs": [],
   "source": [
    "X = viviendas[['Habitaciones', 'Baños', 'Planta','Metros Cuadrados','Ascensor','Balcon','Terraza','Calefaccion',\n",
    "              'Aire Acondicionado','Piscina','Extras','Parking']]\n",
    "y = viviendas['Precio']"
   ]
  },
  {
   "cell_type": "code",
   "execution_count": 7,
   "id": "cf338f26",
   "metadata": {},
   "outputs": [],
   "source": [
    "from sklearn.model_selection import train_test_split\n",
    "\n",
    "X_train, X_test, y_train, y_test = train_test_split(X, y, test_size=0.2, shuffle= True)"
   ]
  },
  {
   "cell_type": "markdown",
   "id": "f645d922",
   "metadata": {},
   "source": [
    "### Vamos a cargar los algoritmos para entrenar a nuestro modelo.\n"
   ]
  },
  {
   "cell_type": "code",
   "execution_count": 8,
   "id": "305b9d92",
   "metadata": {},
   "outputs": [],
   "source": [
    "from sklearn.ensemble import RandomForestRegressor\n",
    "\n",
    "modelo = RandomForestRegressor()\n",
    "training_model = modelo.fit(X_train, y_train)"
   ]
  },
  {
   "cell_type": "markdown",
   "id": "bf2315f2",
   "metadata": {},
   "source": [
    "### Vamos a calcular la predicción "
   ]
  },
  {
   "cell_type": "code",
   "execution_count": 9,
   "id": "2e919c12",
   "metadata": {},
   "outputs": [],
   "source": [
    "prediccion_train= modelo.predict(X_train)"
   ]
  },
  {
   "cell_type": "markdown",
   "id": "b1fc58d9",
   "metadata": {},
   "source": [
    "# Precision del modelo para los datos de entrenamiento.\n",
    "\n",
    "Podemos comprobar quen nuestro modelo contiene una precisión del 86%. Podemos ver que nuestro modelo tiene una buena precisión. La precisión en los modelos de entrenamiento puede ir variando conforme vayamos entrenando el modelo ya que al usar datos aleatorios, nunca obtendremos el mismo resultado."
   ]
  },
  {
   "cell_type": "code",
   "execution_count": 10,
   "id": "a786f596",
   "metadata": {},
   "outputs": [
    {
     "name": "stdout",
     "output_type": "stream",
     "text": [
      "Precisión del modelo de entrenamiento:  0.8634261412543055\n"
     ]
    }
   ],
   "source": [
    "precision_train= modelo.score(X_train,y_train)\n",
    "print('Precisión del modelo de entrenamiento: ',precision_train)"
   ]
  },
  {
   "cell_type": "markdown",
   "id": "770244d2",
   "metadata": {},
   "source": [
    "# Precision del modelo para los datos de test.\n",
    "Precision del modelo para los datos test. Para dicho entrenamiento al tener valores de test aletarorio (Shuffle) \n",
    "cada ejecucíon nos dará un porcentaje diferente, por lo que nunca será similar a la ejecucíon anterior."
   ]
  },
  {
   "cell_type": "code",
   "execution_count": 11,
   "id": "88054b78",
   "metadata": {},
   "outputs": [
    {
     "name": "stdout",
     "output_type": "stream",
     "text": [
      "Precisión del modelo test:  0.06013913594469511\n"
     ]
    }
   ],
   "source": [
    "precision_test= modelo.score(X_test,y_test)\n",
    "print('Precisión del modelo test: ',precision_test)"
   ]
  },
  {
   "cell_type": "code",
   "execution_count": 12,
   "id": "8a767eca",
   "metadata": {},
   "outputs": [
    {
     "data": {
      "image/png": "[encoded data removed]",
      "text/plain": [
       "<Figure size 432x288 with 1 Axes>"
      ]
     },
     "metadata": {
      "needs_background": "light"
     },
     "output_type": "display_data"
    },
    {
     "data": {
      "image/png": "[encoded data removed]",
      "text/plain": [
       "<Figure size 432x288 with 1 Axes>"
      ]
     },
     "metadata": {
      "needs_background": "light"
     },
     "output_type": "display_data"
    },
    {
     "data": {
      "image/png": "[encoded data removed]",
      "text/plain": [
       "<Figure size 432x288 with 1 Axes>"
      ]
     },
     "metadata": {
      "needs_background": "light"
     },
     "output_type": "display_data"
    }
   ],
   "source": [
    "plt.figure()\n",
    "plt.boxplot(X_train,'asdf')\n",
    "plt.show()\n",
    "\n",
    "plt.figure()\n",
    "plt.boxplot(y_train,'asdf')\n",
    "plt.show()\n",
    "\n",
    "plt.figure()\n",
    "plt.boxplot(y_test,'asdf')\n",
    "plt.show()"
   ]
  },
  {
   "cell_type": "markdown",
   "id": "f9d850b9",
   "metadata": {},
   "source": [
    "# PROCEDEMOS A CALCULAR LA SIGUIENTES MÉTRICAS:\n",
    "\n",
    "* El error absoluto medio (MAE) es la media del valor absoluto de los errores\n",
    "* El error cuadrático medio (MSE) es la media de los errores cuadráticos.\n",
    "* El error cuadrático medio (RMSE) es la raíz cuadrada de la media de los errores cuadráticos."
   ]
  },
  {
   "cell_type": "code",
   "execution_count": 22,
   "id": "4099a714",
   "metadata": {},
   "outputs": [
    {
     "data": {
      "text/html": [
       "<div>\n",
       "<style scoped>\n",
       "    .dataframe tbody tr th:only-of-type {\n",
       "        vertical-align: middle;\n",
       "    }\n",
       "\n",
       "    .dataframe tbody tr th {\n",
       "        vertical-align: top;\n",
       "    }\n",
       "\n",
       "    .dataframe thead th {\n",
       "        text-align: right;\n",
       "    }\n",
       "</style>\n",
       "<table border=\"1\" class=\"dataframe\">\n",
       "  <thead>\n",
       "    <tr style=\"text-align: right;\">\n",
       "      <th></th>\n",
       "      <th>Modelo</th>\n",
       "      <th>MAE</th>\n",
       "      <th>MSE</th>\n",
       "      <th>RMSE</th>\n",
       "      <th>R2 Square</th>\n",
       "    </tr>\n",
       "  </thead>\n",
       "  <tbody>\n",
       "    <tr>\n",
       "      <th>0</th>\n",
       "      <td>Random Forest Regression Test</td>\n",
       "      <td>2284.555474</td>\n",
       "      <td>7.242124e+06</td>\n",
       "      <td>2691.119455</td>\n",
       "      <td>0.060139</td>\n",
       "    </tr>\n",
       "  </tbody>\n",
       "</table>\n",
       "</div>"
      ],
      "text/plain": [
       "                          Modelo          MAE           MSE         RMSE  \\\n",
       "0  Random Forest Regression Test  2284.555474  7.242124e+06  2691.119455   \n",
       "\n",
       "   R2 Square  \n",
       "0   0.060139  "
      ]
     },
     "execution_count": 22,
     "metadata": {},
     "output_type": "execute_result"
    }
   ],
   "source": [
    "from sklearn import metrics\n",
    "\n",
    "def evaluarErrores(true, predicted):\n",
    "    mae = metrics.mean_absolute_error(true, predicted)\n",
    "    mse = metrics.mean_squared_error(true, predicted)\n",
    "    rmse = np.sqrt(metrics.mean_squared_error(true, predicted))\n",
    "    r2_square = metrics.r2_score(true, predicted)\n",
    "    return mae, mse, rmse, r2_square\n",
    "\n",
    "testPrediccion= modelo.predict(X_test)\n",
    "\n",
    "resultadoRandomForestRegression = pd.DataFrame(data=[[\"Random Forest Regression Test\", * evaluarErrores(y_test, testPrediccion)]], \n",
    "                          columns=['Modelo', 'MAE', 'MSE', 'RMSE', 'R2 Square'])\n",
    "resultadoRandomForestRegression"
   ]
  },
  {
   "cell_type": "code",
   "execution_count": 23,
   "id": "8a191919",
   "metadata": {},
   "outputs": [
    {
     "data": {
      "text/html": [
       "<div>\n",
       "<style scoped>\n",
       "    .dataframe tbody tr th:only-of-type {\n",
       "        vertical-align: middle;\n",
       "    }\n",
       "\n",
       "    .dataframe tbody tr th {\n",
       "        vertical-align: top;\n",
       "    }\n",
       "\n",
       "    .dataframe thead th {\n",
       "        text-align: right;\n",
       "    }\n",
       "</style>\n",
       "<table border=\"1\" class=\"dataframe\">\n",
       "  <thead>\n",
       "    <tr style=\"text-align: right;\">\n",
       "      <th></th>\n",
       "      <th>Modelo</th>\n",
       "      <th>MAE</th>\n",
       "      <th>MSE</th>\n",
       "      <th>RMSE</th>\n",
       "      <th>R2 Square</th>\n",
       "    </tr>\n",
       "  </thead>\n",
       "  <tbody>\n",
       "    <tr>\n",
       "      <th>0</th>\n",
       "      <td>Random Forest Regression Train</td>\n",
       "      <td>865.991259</td>\n",
       "      <td>1.068109e+06</td>\n",
       "      <td>1033.493598</td>\n",
       "      <td>0.863426</td>\n",
       "    </tr>\n",
       "  </tbody>\n",
       "</table>\n",
       "</div>"
      ],
      "text/plain": [
       "                           Modelo         MAE           MSE         RMSE  \\\n",
       "0  Random Forest Regression Train  865.991259  1.068109e+06  1033.493598   \n",
       "\n",
       "   R2 Square  \n",
       "0   0.863426  "
      ]
     },
     "execution_count": 23,
     "metadata": {},
     "output_type": "execute_result"
    }
   ],
   "source": [
    "def evaluarErrores(true, predicted):\n",
    "    mae = metrics.mean_absolute_error(true, predicted)\n",
    "    mse = metrics.mean_squared_error(true, predicted)\n",
    "    rmse = np.sqrt(metrics.mean_squared_error(true, predicted))\n",
    "    r2_square = metrics.r2_score(true, predicted)\n",
    "    return mae, mse, rmse, r2_square\n",
    "\n",
    "trainPrediccion= modelo.predict(X_train)\n",
    "resultadoRandomForestRegression = pd.DataFrame(data=[[\"Random Forest Regression Train\", * evaluarErrores(y_train, trainPrediccion)]], \n",
    "                          columns=['Modelo', 'MAE', 'MSE', 'RMSE', 'R2 Square'])\n",
    "resultadoRandomForestRegression"
   ]
  },
  {
   "cell_type": "code",
   "execution_count": null,
   "id": "11c78cff",
   "metadata": {},
   "outputs": [],
   "source": []
  },
  {
   "cell_type": "code",
   "execution_count": null,
   "id": "8513dabd",
   "metadata": {},
   "outputs": [],
   "source": []
  },
  {
   "cell_type": "markdown",
   "id": "d6b957c4",
   "metadata": {},
   "source": [
    "# Vamos a predecir nuestro modelo RandomForestRegressor. \n"
   ]
  },
  {
   "cell_type": "code",
   "execution_count": 17,
   "id": "f04e74eb",
   "metadata": {},
   "outputs": [
    {
     "name": "stdout",
     "output_type": "stream",
     "text": [
      "[5848.49]\n"
     ]
    },
    {
     "name": "stderr",
     "output_type": "stream",
     "text": [
      "/Users/joseplasenciavillarejo/opt/anaconda3/envs/tensorflow_env/lib/python3.7/site-packages/sklearn/base.py:451: UserWarning: X does not have valid feature names, but RandomForestRegressor was fitted with feature names\n",
      "  \"X does not have valid feature names, but\"\n"
     ]
    }
   ],
   "source": [
    "print(modelo.predict([[5, 2, 3,140,1,1,1,1,1,0,7,1]]))"
   ]
  },
  {
   "cell_type": "code",
   "execution_count": null,
   "id": "dfa46ec1",
   "metadata": {},
   "outputs": [],
   "source": []
  }
 ],
 "metadata": {
  "kernelspec": {
   "display_name": "Python 3 (ipykernel)",
   "language": "python",
   "name": "python3"
  },
  "language_info": {
   "codemirror_mode": {
    "name": "ipython",
    "version": 3
   },
   "file_extension": ".py",
   "mimetype": "text/x-python",
   "name": "python",
   "nbconvert_exporter": "python",
   "pygments_lexer": "ipython3",
   "version": "3.7.11"
  }
 },
 "nbformat": 4,
 "nbformat_minor": 5
}
